{
 "cells": [
  {
   "cell_type": "code",
   "execution_count": null,
   "metadata": {},
   "outputs": [],
   "source": [
    "# ipython magic\n",
    "%matplotlib notebook\n",
    "%load_ext autoreload\n",
    "%autoreload 2"
   ]
  },
  {
   "cell_type": "code",
   "execution_count": null,
   "metadata": {},
   "outputs": [],
   "source": [
    "%matplotlib inline\n",
    "\n",
    "# plot configuration\n",
    "import matplotlib\n",
    "import matplotlib.pyplot as plt\n",
    "plt.style.use(\"ggplot\")\n",
    "# import seaborn as sns # sets another style\n",
    "matplotlib.rcParams['lines.linewidth'] = 3\n",
    "fig_width, fig_height = (7.0,5.0)\n",
    "matplotlib.rcParams['figure.figsize'] = (fig_width, fig_height)\n",
    "\n",
    "# font = {'family' : 'sans-serif',\n",
    "#         'weight' : 'normal',\n",
    "#         'size'   : 18.0}\n",
    "# matplotlib.rc('font', **font)  # pass in the font dict as kwar"
   ]
  },
  {
   "cell_type": "code",
   "execution_count": null,
   "metadata": {},
   "outputs": [],
   "source": [
    "# import modules\n",
    "import numpy as np\n",
    "from scipy import special\n",
    "import sobol_seq\n",
    "import pandas as pd\n",
    "from statsmodels.tsa.arima_model import ARIMA\n",
    "import seaborn as sns\n",
    "from mpl_toolkits.mplot3d import Axes3D"
   ]
  },
  {
   "cell_type": "code",
   "execution_count": null,
   "metadata": {},
   "outputs": [],
   "source": [
    "run = 50\n",
    "\n",
    "def decreasePaceSilver2050(silverCell):\n",
    "    return - 1/(2050-2017) * np.log(silverCell/ITRPV2018silverCell2017)\n",
    "\n",
    "def mu(x):\n",
    "    return np.mean(x)\n",
    "\n",
    "def sigma(x):\n",
    "    return np.std(x)"
   ]
  },
  {
   "cell_type": "code",
   "execution_count": null,
   "metadata": {},
   "outputs": [],
   "source": [
    "sampleTot = sobol_seq.i4_sobol_generate(12,run*2**10)"
   ]
  },
  {
   "cell_type": "code",
   "execution_count": null,
   "metadata": {},
   "outputs": [],
   "source": [
    "# Current use of silver paste (mg/cell) - year 2017 - source ITRPV 2018\n",
    "\n",
    "ITRPV2018silverCell2017 = 100\n",
    "ITRPVsilverCell2028 = 50 \n",
    "ITRPV2018decreasePace= - 1/(2028-2017) * np.log(ITRPVsilverCell2028/ITRPV2018silverCell2017)"
   ]
  },
  {
   "cell_type": "code",
   "execution_count": null,
   "metadata": {},
   "outputs": [],
   "source": [
    "# Silver cell decrease pace - distribution generated on the basis of the experts consultation\n",
    "\n",
    "silverCell2050DecreasePace = np.array([ITRPV2018decreasePace, ITRPV2018decreasePace, \\\n",
    "decreasePaceSilver2050(ITRPV2018silverCell2017*0.01), decreasePaceSilver2050(ITRPV2018silverCell2017*0.01),\\\n",
    "decreasePaceSilver2050(10), decreasePaceSilver2050(15),decreasePaceSilver2050((20+10)/2), 0.05])"
   ]
  },
  {
   "cell_type": "code",
   "execution_count": null,
   "metadata": {},
   "outputs": [],
   "source": [
    "# PV Cell Efficiency growth up to the year 2050 (W/cell)\n",
    "\n",
    "PVCellEfficiency2017 = 4.27\n",
    "\n",
    "PVCellEfficiency2050 = 6.1 \n",
    "\n",
    "PVCellEfficiencyIncreasePace = 1/(2050-2017) * np.log(PVCellEfficiency2050/PVCellEfficiency2017)"
   ]
  },
  {
   "cell_type": "code",
   "execution_count": null,
   "metadata": {},
   "outputs": [],
   "source": [
    "# Current expansion of PV power capacity (GW) - year 2017\n",
    "\n",
    "PVPC2017 = 90\n",
    "CrystallineSiliconShare = 0.9\n",
    "IEA2050 = 4670\n",
    "Greenpeace2050 = 9295\n",
    "Fraunhofer2050 = 30700\n",
    "CPVPC2017 = 402\n",
    "\n",
    "IEA2050_CrystallineSiliconShare = IEA2050 * CrystallineSiliconShare\n",
    "Greenpeace2050_CrystallineSiliconShare = Greenpeace2050 * CrystallineSiliconShare\n",
    "Fraunhofer2050_CrystallineSiliconShare = Fraunhofer2050 * CrystallineSiliconShare\n",
    "PVPC2017_CrystallineSiliconShare = PVPC2017 * CrystallineSiliconShare\n",
    "\n",
    "PVPC2050IncreasePace = [0.025, 0.112, 0.061]"
   ]
  },
  {
   "cell_type": "code",
   "execution_count": null,
   "metadata": {},
   "outputs": [],
   "source": [
    "# Non-industrial + Industrial Non-PV\n",
    "otherAg = pd.DataFrame([28.8,29.4,32.8,26.0,30.7,32.5,29.3,33.4,33.2,34.0,29.9,28.7], index=[y for y in range(2006,2018)]).T\n",
    "# A negative correlation between the two variables has been confirmed by checking the sign of the anti-diagonal matrix"
   ]
  },
  {
   "cell_type": "code",
   "execution_count": null,
   "metadata": {},
   "outputs": [],
   "source": [
    "# Yearly extraction capacity\n",
    "\n",
    "Extraction = pd.DataFrame([3.97,5.22,5.44,5.57,6.32,6.21,6.7,6.9,6.67,7,7.02,7.19,7.43,6.91,7.32,7.37,7.65,7.78,7.73,8.01,8.3,8.03,8.56,9.2,9.36,9.17,9.38,9.7,9.26,9.43,9.84,10.3,\n",
    "10.7,10.8,10.7,11.2,11.5,12.1,13.1,13.1,13,14,15.5,16.4,16.6,15.6,14.9,14.1,14,14.9,15.1,16.5,17.2,17.6,18.1,18.7,18.8,18.8,20,20.8,20.1,20.8,21.3,22.3,23.3,23.3,24.3,25.7,\n",
    "26.8,27.6,25.7,25], index=[y for y in range(1946,2018)],columns=['Global Production'])"
   ]
  },
  {
   "cell_type": "code",
   "execution_count": null,
   "metadata": {},
   "outputs": [],
   "source": [
    "S_silverCellR = []\n",
    "S_PVPCR = []\n",
    "S_otherAgR = []\n",
    "T_silverCellR = []\n",
    "T_PVPCR = []\n",
    "T_otherAgR = []\n",
    "yearlySilverR = []\n",
    "CumulativeSilverR = []\n",
    "PVPC2050R = []\n",
    "silverCellR = []\n",
    "otherAgR = []\n",
    "silverDeltaR = []\n",
    "DifferenceR = []\n",
    "\n",
    "for r in range(run):\n",
    "    sample = sampleTot[int(r*len(sampleTot)/run):int((r+1)*len(sampleTot)/run)].T\n",
    "    \n",
    "    silverCellDistribution2 = sigma(silverCell2050DecreasePace)*2**0.5*special.erfinv(sample[0]*(1-special.erf(-mu(silverCell2050DecreasePace)/\n",
    "    (sigma(silverCell2050DecreasePace)*2**0.5)))+special.erf(-mu(silverCell2050DecreasePace)/\n",
    "    (sigma(silverCell2050DecreasePace)*2**0.5)))+mu(silverCell2050DecreasePace)\n",
    "\n",
    "    silverCellDistribution2B = sigma(silverCell2050DecreasePace)*2**0.5*special.erfinv(sample[6]*(1-special.erf(-mu(silverCell2050DecreasePace)/\n",
    "    (sigma(silverCell2050DecreasePace)*2**0.5)))+special.erf(-mu(silverCell2050DecreasePace)/\n",
    "    (sigma(silverCell2050DecreasePace)*2**0.5)))+mu(silverCell2050DecreasePace)\n",
    "    \n",
    "    PVPC2050IncreasePaceDist = sigma(PVPC2050IncreasePace)*2**0.5*special.erfinv(sample[1]*(1-special.erf(-mu(PVPC2050IncreasePace)/\n",
    "    (sigma(PVPC2050IncreasePace)*2**0.5)))+special.erf(-mu(PVPC2050IncreasePace)/\n",
    "    (sigma(PVPC2050IncreasePace)*2**0.5)))+mu(PVPC2050IncreasePace)\n",
    "\n",
    "    PVPC2050IncreasePaceDistB = sigma(PVPC2050IncreasePace)*2**0.5*special.erfinv(sample[7]*(1-special.erf(-mu(PVPC2050IncreasePace)/\n",
    "    (sigma(PVPC2050IncreasePace)*2**0.5)))+special.erf(-mu(PVPC2050IncreasePace)/\n",
    "    (sigma(PVPC2050IncreasePace)*2**0.5)))+mu(PVPC2050IncreasePace)\n",
    "    \n",
    "    Noise = sigma(sample[2])*2**0.5*special.erfinv(2*sample[2]-1)\n",
    "    NoiseB = sigma(sample[8])*2**0.5*special.erfinv(2*sample[8]-1)\n",
    "    \n",
    "    # fit model Silver\n",
    "    model = ARIMA(otherAg.iloc[-1]+Noise[:len(otherAg.T)], order=(0, 1, 1))\n",
    "    model_fit = model.fit(disp=False)\n",
    "    # make prediction\n",
    "    yhat = model_fit.predict(len(otherAg.iloc[-1]), 44, typ='levels')\n",
    "    yhat.index = yhat.index + 2006\n",
    "    forecast, stderr, conf = model_fit.forecast(33)\n",
    "\n",
    "    modelB = ARIMA(otherAg.iloc[-1]+NoiseB[:len(otherAg.T)], order=(0, 1, 1))\n",
    "    model_fitB = modelB.fit(disp=False)\n",
    "    # make prediction\n",
    "    yhatB = model_fitB.predict(len(otherAg.iloc[-1]), 44, typ='levels')\n",
    "    yhatB.index = yhat.index\n",
    "    forecastB, stderrB, confB = model_fitB.forecast(33)\n",
    "    \n",
    "    otherAgDist = pd.DataFrame([((forecast[i]-conf[i][0])/1.96)*2**0.5*special.erfinv(sample[3]*(1-special.erf(-forecast[i]/\n",
    "    (((forecast[i]-conf[i][0])/1.96)*2**0.5)))+special.erf(-forecast[i]/\n",
    "    (((forecast[i]-conf[i][0])/1.96)*2**0.5)))+forecast[i] for i in range(len(forecast))],index=[i for i in range(2018,2051)])\n",
    "\n",
    "    otherAgDistB = pd.DataFrame([((forecastB[i]-confB[i][0])/1.96)*2**0.5*special.erfinv(sample[9]*(1-special.erf(-forecastB[i]/\n",
    "    (((forecastB[i]-confB[i][0])/1.96)*2**0.5)))+special.erf(-forecastB[i]/\n",
    "    (((forecastB[i]-confB[i][0])/1.96)*2**0.5)))+forecastB[i] for i in range(len(forecastB))],index=[i for i in range(2018,2051)])\n",
    "    \n",
    "    # Resources and reserves\n",
    "    distributionSilverReserveResource = sample[4]*(4000-530)+530\n",
    "    distributionSilverReserveResource = sample[10]*(4000-530)+530\n",
    "    \n",
    "    # fit model Extraction\n",
    "    model2 = ARIMA(Extraction['Global Production'] +Noise[:len(Extraction)], order=(0, 2, 1))\n",
    "    model_fit2 = model2.fit(disp=False)\n",
    "    # make prediction\n",
    "    yhat2 = model_fit2.predict(len(Extraction), 105, typ='levels')\n",
    "    yhat2.index = yhat2.index+1946\n",
    "    forecast2, stderr2, conf2 = model_fit2.forecast(33)\n",
    "\n",
    "    model2B = ARIMA(Extraction['Global Production'] +NoiseB[:len(Extraction)], order=(0, 2, 1))\n",
    "    model_fit2B = model2B.fit(disp=False)\n",
    "    # make prediction\n",
    "    yhat2B = model_fit2B.predict(len(Extraction), 105, typ='levels')\n",
    "    yhat2B.index = yhat2B.index+1946\n",
    "    forecast2B, stderr2B, conf2B = model_fit2B.forecast(33)\n",
    "    \n",
    "    # Extraction distribution\n",
    "    ExtractionDist = pd.DataFrame([((forecast2[i]-conf2[i][0])/1.96)*2**0.5*special.erfinv(sample[5]*(1-special.erf(-forecast2[i]/\n",
    "    (((forecast2[i]-conf2[i][0])/1.96)*2**0.5)))+special.erf(-forecast2[i]/\n",
    "    (((forecast2[i]-conf2[i][0])/1.96)*2**0.5)))+forecast2[i] for i in range(len(forecast2))],index = otherAgDist.index)\n",
    "    \n",
    "    ExtractionDistB = pd.DataFrame([((forecast2B[i]-conf2B[i][0])/1.96)*2**0.5*special.erfinv(sample[11]*(1-special.erf(-forecast2B[i]/\n",
    "    (((forecast2B[i]-conf2B[i][0])/1.96)*2**0.5)))+special.erf(-forecast2B[i]/\n",
    "    (((forecast2B[i]-conf2B[i][0])/1.96)*2**0.5)))+forecast2B[i] for i in range(len(forecast2B))],index = otherAgDistB.index)\n",
    "    \n",
    "    # Generation of the yearly silver output (1,000 metric tonnes)\n",
    "    PVDemand = pd.DataFrame([(ITRPV2018silverCell2017 * np.exp(-silverCellDistribution2*i1)/(PVCellEfficiency2017 * \\\n",
    "    np.exp(PVCellEfficiencyIncreasePace*i1)))* PVPC2017 * CrystallineSiliconShare * np.exp(PVPC2050IncreasePaceDist*i1)/1000 for i1\n",
    "    in range (2051-2018)],index=otherAgDist.index)\n",
    "\n",
    "    PVDemandAB1 = pd.DataFrame([(ITRPV2018silverCell2017 * np.exp(-silverCellDistribution2B*i1)/(PVCellEfficiency2017 * \\\n",
    "    np.exp(PVCellEfficiencyIncreasePace*i1)))* PVPC2017 * CrystallineSiliconShare * np.exp(PVPC2050IncreasePaceDist*i1)/1000 for i1\n",
    "    in range (2051-2018)],index=otherAgDist.index)\n",
    "\n",
    "    PVDemandAB2 = pd.DataFrame([(ITRPV2018silverCell2017 * np.exp(-silverCellDistribution2*i1)/(PVCellEfficiency2017 * \\\n",
    "    np.exp(PVCellEfficiencyIncreasePace*i1)))* PVPC2017 * CrystallineSiliconShare * np.exp(PVPC2050IncreasePaceDistB*i1)/1000 for i1\n",
    "    in range (2051-2018)],index=otherAgDist.index)\n",
    "\n",
    "    PVDemandB = pd.DataFrame([(ITRPV2018silverCell2017 * np.exp(-silverCellDistribution2B*i1)/(PVCellEfficiency2017 * \\\n",
    "    np.exp(PVCellEfficiencyIncreasePace*i1)))* PVPC2017 * CrystallineSiliconShare * np.exp(PVPC2050IncreasePaceDistB*i1)/1000 for i1\n",
    "    in range (2051-2018)],index=otherAgDist.index)\n",
    "\n",
    "    # Generation of the cumulative silver output (1,000 metric tonnes)\n",
    "    yearlySilver = PVDemand+otherAgDist\n",
    "    yearlySilverAB1 = PVDemandAB1+otherAgDist\n",
    "    yearlySilverAB2 = PVDemandAB2+otherAgDist\n",
    "    yearlySilverAB3 = PVDemand+otherAgDistB\n",
    "    yearlySilverB = PVDemandB+otherAgDistB\n",
    "\n",
    "    CumulativeSilver = yearlySilver.cumsum()\n",
    "\n",
    "    # Derivative Yearly Silver Demand\n",
    "    derivativeYearlySilver = yearlySilver.diff()\n",
    "    \n",
    "    # Yearly Delta (viability, technological constraint)\n",
    "\n",
    "    silverDelta = ExtractionDist - 0.8*yearlySilver\n",
    "\n",
    "    # Cumulative Delta (feasibility, biophysical constraint)\n",
    "\n",
    "    Difference = distributionSilverReserveResource-CumulativeSilver\n",
    "    \n",
    "    S_silverCell = 1-(0.5*((yearlySilverB-yearlySilverAB1)**2).mean(axis=1))/yearlySilverB.var(axis=1,ddof=0)\n",
    "    S_PVPC = 1-(0.5*((yearlySilverB-yearlySilverAB2)**2).mean(axis=1))/yearlySilverB.var(axis=1,ddof=0)\n",
    "    S_otherAg = 1-(0.5*((yearlySilverB-yearlySilverAB3)**2).mean(axis=1))/yearlySilverB.var(axis=1,ddof=0)\n",
    "    T_silverCell = (0.5*((yearlySilver-yearlySilverAB1)**2).mean(axis=1))/yearlySilver.var(axis=1,ddof=0)\n",
    "    T_PVPC = (0.5*((yearlySilver-yearlySilverAB2)**2).mean(axis=1))/yearlySilver.var(axis=1,ddof=0)\n",
    "    T_otherAg = (0.5*((yearlySilver-yearlySilverAB3)**2).mean(axis=1))/yearlySilver.var(axis=1,ddof=0)\n",
    "    \n",
    "    S_silverCellR.append(S_silverCell)\n",
    "    S_PVPCR.append(S_PVPC)\n",
    "    S_otherAgR.append(S_otherAg)\n",
    "    T_silverCellR.append(T_silverCell)\n",
    "    T_PVPCR.append(T_PVPC)\n",
    "    T_otherAgR.append(T_otherAg)\n",
    "    yearlySilverR.append(yearlySilver)\n",
    "    PVPC2050R.append(PVPC2050IncreasePaceDist)\n",
    "    silverCellR.append(silverCellDistribution2)\n",
    "    CumulativeSilverR.append(CumulativeSilver)\n",
    "    otherAgR.append(otherAgDist)\n",
    "    silverDeltaR.append(silverDelta)\n",
    "    DifferenceR.append(Difference)\n",
    "\n",
    "S_silverCell_df = pd.DataFrame(S_silverCellR)\n",
    "S_PVPC_df = pd.DataFrame(S_PVPCR)\n",
    "S_otherAg_df = pd.DataFrame(S_otherAgR)\n",
    "T_silverCell_df = pd.DataFrame(T_silverCellR)\n",
    "T_PVPC_df = pd.DataFrame(T_PVPCR)\n",
    "T_otherAg_df = pd.DataFrame(T_otherAgR)"
   ]
  },
  {
   "cell_type": "code",
   "execution_count": null,
   "metadata": {},
   "outputs": [],
   "source": [
    "df20503d = pd.concat([pd.Series(np.array(silverCellR).flatten()),pd.Series(np.array(PVPC2050R).flatten()),\n",
    "pd.concat([oa.loc[2050] for oa in otherAgR],axis=0).reset_index(drop=True),                      \n",
    "pd.concat([yr.loc[2050] for yr in yearlySilverR],axis=0).reset_index(drop=True),\n",
    "pd.concat([cr.loc[2050] for cr in CumulativeSilverR],axis=0).reset_index(drop=True),\n",
    "pd.concat([sd.loc[2050] for sd in silverDeltaR],axis=0).reset_index(drop=True),\n",
    "pd.concat([df.loc[2050] for df in DifferenceR],axis=0).reset_index(drop=True)],axis=1)\n",
    "df20503d.columns = ['silverCell','PVPC','nonPVsilver','yearlySilver','CumulativeSilver','yearly Delta','Difference']"
   ]
  },
  {
   "cell_type": "code",
   "execution_count": null,
   "metadata": {},
   "outputs": [],
   "source": [
    "#Smirnov-Kolmorov Test\n",
    "\n",
    "BVsilverCell=df20503d['silverCell'][df20503d['yearly Delta']>0].sort_values()\n",
    "BVsilverCellCum = BVsilverCell.cumsum()/BVsilverCell.sum()\n",
    "NBVsilverCell=df20503d['silverCell'][df20503d['yearly Delta']<0].sort_values()\n",
    "NBVsilverCellCum = NBVsilverCell.cumsum()/NBVsilverCell.sum()\n",
    "\n",
    "ax1 = plt.plot(BVsilverCell,BVsilverCellCum,label='silverCell_B',c='b')\n",
    "plt.plot(NBVsilverCell,NBVsilverCellCum,label='silverCell_NB',c='r')\n",
    "plt.legend()"
   ]
  },
  {
   "cell_type": "code",
   "execution_count": null,
   "metadata": {},
   "outputs": [],
   "source": [
    "BFsilverCell=df20503d['silverCell'][df20503d['Difference']>0].sort_values()\n",
    "BFsilverCellCum = BFsilverCell.cumsum()/BFsilverCell.sum()\n",
    "NBFsilverCell=df20503d['silverCell'][df20503d['Difference']<0].sort_values()\n",
    "NBFsilverCellCum = NBFsilverCell.cumsum()/NBFsilverCell.sum()\n",
    "\n",
    "ax1 = plt.plot(BFsilverCell,BFsilverCellCum,label='silverCell_B',c='b')\n",
    "plt.plot(NBFsilverCell,NBFsilverCellCum,label='silverCell_NB',c='r')\n",
    "plt.legend()"
   ]
  },
  {
   "cell_type": "code",
   "execution_count": null,
   "metadata": {},
   "outputs": [],
   "source": [
    "BVPVPC=df20503d['PVPC'][df20503d['yearly Delta']>0].sort_values()\n",
    "BVPVPCCum = BVPVPC.cumsum()/BVPVPC.sum()\n",
    "NBVPVPC=df20503d['PVPC'][df20503d['yearly Delta']<0].sort_values()\n",
    "NBVPVPCCum = NBVPVPC.cumsum()/NBVPVPC.sum()\n",
    "\n",
    "ax1 = plt.plot(BVPVPC,BVPVPCCum,label='PVPC_B',c='b')\n",
    "plt.plot(NBVPVPC,NBVPVPCCum,label='PVPC_NB',c='r')\n",
    "plt.legend()"
   ]
  },
  {
   "cell_type": "code",
   "execution_count": null,
   "metadata": {},
   "outputs": [],
   "source": [
    "#Smirnov-Kolmorov Test\n",
    "\n",
    "BFPVPC=df20503d['PVPC'][df20503d['Difference']>0].sort_values()\n",
    "BFPVPCCum = BFPVPC.cumsum()/BFPVPC.sum()\n",
    "NBFPVPC=df20503d['PVPC'][df20503d['Difference']<0].sort_values()\n",
    "NBFPVPCCum = NBFPVPC.cumsum()/NBFPVPC.sum()\n",
    "\n",
    "ax1 = plt.plot(BFPVPC,BFPVPCCum,label='PVPC_B',c='b')\n",
    "plt.plot(NBFPVPC,NBFPVPCCum,label='PVPC_NB',c='r')\n",
    "plt.legend()"
   ]
  },
  {
   "cell_type": "code",
   "execution_count": null,
   "metadata": {},
   "outputs": [],
   "source": [
    "#Smirnov-Kolmorov Test\n",
    "\n",
    "BVnonPVsilver=df20503d['nonPVsilver'][df20503d['yearly Delta']>0].sort_values()\n",
    "BVnonPVsilverCum = BVnonPVsilver.cumsum()/BVnonPVsilver.sum()\n",
    "NBVnonPVsilver=df20503d['nonPVsilver'][df20503d['yearly Delta']<0].sort_values()\n",
    "NBVnonPVsilverCum = NBVnonPVsilver.cumsum()/NBVnonPVsilver.sum()\n",
    "\n",
    "ax1 = plt.plot(BVnonPVsilver,BVnonPVsilverCum,label='nonPVsilver_B',c='b')\n",
    "plt.plot(NBVnonPVsilver,NBVnonPVsilverCum,label='nonPVsilver_NB',c='r')\n",
    "plt.legend()"
   ]
  },
  {
   "cell_type": "code",
   "execution_count": null,
   "metadata": {},
   "outputs": [],
   "source": [
    "#Smirnov-Kolmorov Test\n",
    "\n",
    "BFnonPVsilver=df20503d['nonPVsilver'][df20503d['Difference']>0].sort_values()\n",
    "BFnonPVsilverCum = BFnonPVsilver.cumsum()/BFnonPVsilver.sum()\n",
    "NBFnonPVsilver=df20503d['nonPVsilver'][df20503d['Difference']<0].sort_values()\n",
    "NBFnonPVsilverCum = NBFnonPVsilver.cumsum()/NBFnonPVsilver.sum()\n",
    "\n",
    "ax1 = plt.plot(BFnonPVsilver,BFnonPVsilverCum,label='nonPVsilver_B',c='b')\n",
    "plt.plot(NBFnonPVsilver,NBFnonPVsilverCum,label='nonPVsilver_NB',c='r')\n",
    "plt.legend()"
   ]
  },
  {
   "cell_type": "code",
   "execution_count": null,
   "metadata": {},
   "outputs": [],
   "source": [
    "for i2, row in PVDemand.iterrows():\n",
    "    plt.plot([i2 for col in range(len(PVDemand.columns))], row, c = 'y', label = 'Silver PV Demand' if i2 == 2018 else \"\")\n",
    "plt.legend()\n",
    "plt.show()"
   ]
  },
  {
   "cell_type": "code",
   "execution_count": null,
   "metadata": {},
   "outputs": [],
   "source": [
    "for i2, row in CumulativeSilver.iterrows():\n",
    "    plt.plot([i2 for col in range(len(CumulativeSilver.columns))], row, c = 'g', label = 'Cumulative Silver Demand' if i2 == 2018 else \"\")\n",
    "    plt.scatter(i2, row.mean(), c = 'm', label = 'Cumulative Silver demand mean' if i2 == 2018 else \"\")\n",
    "plt.legend()\n",
    "plt.show()"
   ]
  },
  {
   "cell_type": "code",
   "execution_count": null,
   "metadata": {},
   "outputs": [],
   "source": [
    "for i2, row in derivativeYearlySilver.iterrows():\n",
    "    plt.plot([i2 for col in range(len(derivativeYearlySilver.columns))], row, c = 'k', label = 'derivative Yearly Silver' if i2 == 2018 else \"\")\n",
    "plt.legend()\n",
    "plt.show()"
   ]
  },
  {
   "cell_type": "code",
   "execution_count": null,
   "metadata": {},
   "outputs": [],
   "source": [
    "sns.distplot(derivativeYearlySilver.loc[2050],vertical=True,color='k')"
   ]
  },
  {
   "cell_type": "code",
   "execution_count": null,
   "metadata": {},
   "outputs": [],
   "source": [
    "for i2, row in silverDelta.iterrows():\n",
    "    plt.plot([i2 for col in range(len(silverDelta.columns))], row, c = 'c',label = 'yearly Delta' if i2 == 2018 else \"\")\n",
    "plt.legend()\n",
    "plt.show()"
   ]
  },
  {
   "cell_type": "code",
   "execution_count": null,
   "metadata": {},
   "outputs": [],
   "source": [
    "sns.distplot(silverDelta.loc[2050],vertical=True,color='c')"
   ]
  },
  {
   "cell_type": "code",
   "execution_count": null,
   "metadata": {},
   "outputs": [],
   "source": [
    "for i2, row in Difference.iterrows():\n",
    "    plt.plot([i2 for col in range(len(Difference.columns))], row, c='w', label = 'Difference' if i2 == 2018 else \"\")\n",
    "    plt.scatter(i2, row.mean(), c = 'm', label = 'Difference mean' if i2 == 2018 else \"\")\n",
    "plt.legend()\n",
    "plt.show()"
   ]
  },
  {
   "cell_type": "code",
   "execution_count": null,
   "metadata": {},
   "outputs": [],
   "source": [
    "sns.distplot(Difference.loc[2050],vertical=True,color='w')"
   ]
  },
  {
   "cell_type": "code",
   "execution_count": null,
   "metadata": {},
   "outputs": [],
   "source": [
    "for i2, row in yearlySilver.iterrows():\n",
    "    plt.scatter(silverCellDistribution2, row, s = 2, label = 'silverCellDistribution_'+str(i2))\n",
    "    plt.plot(np.unique(silverCellDistribution2), np.poly1d(np.polyfit(silverCellDistribution2, row, 1))(np.unique(silverCellDistribution2)), color='r')\n",
    "    plt.legend()\n",
    "    plt.show()"
   ]
  },
  {
   "cell_type": "code",
   "execution_count": null,
   "metadata": {},
   "outputs": [],
   "source": [
    "for i2, row in yearlySilver.iterrows():\n",
    "    plt.scatter(PVPC2050IncreasePaceDist, row, s = 2, c='g', label = 'PVPC2050IncreasePaceDistribution_'+str(i2))\n",
    "    plt.plot(np.unique(PVPC2050IncreasePaceDist), np.poly1d(np.polyfit(PVPC2050IncreasePaceDist, row, 1))(np.unique(PVPC2050IncreasePaceDist)), color='g')\n",
    "    plt.legend()\n",
    "    plt.show()"
   ]
  },
  {
   "cell_type": "code",
   "execution_count": null,
   "metadata": {},
   "outputs": [],
   "source": [
    "for i2, row in yearlySilver.iterrows():\n",
    "    plt.scatter(otherAgDist.loc[i2], row, s = 2, c='b', label = 'Ag_nonPV_'+str(i2))\n",
    "    plt.plot(np.unique(otherAgDist.loc[i2]), np.poly1d(np.polyfit(otherAgDist.loc[i2], row, 1))(np.unique(otherAgDist.loc[i2])), color='b')\n",
    "    plt.legend()\n",
    "    plt.show()"
   ]
  },
  {
   "cell_type": "code",
   "execution_count": null,
   "metadata": {},
   "outputs": [],
   "source": [
    "for i, row in Difference.iterrows():\n",
    "    plt.bar(i,row[row>0].count(),color='b')\n",
    "    plt.bar(i,row[row<0].count(),bottom=row[row>0].count(),color='r')\n",
    "plt.show()"
   ]
  },
  {
   "cell_type": "code",
   "execution_count": null,
   "metadata": {},
   "outputs": [],
   "source": [
    "for i, row in silverDelta.iterrows():\n",
    "    plt.bar(i,row[row>0].count(),color='b')\n",
    "    plt.bar(i,row[row<0].count(),bottom=row[row>0].count(),color='r')\n",
    "plt.show()"
   ]
  },
  {
   "cell_type": "code",
   "execution_count": null,
   "metadata": {},
   "outputs": [],
   "source": [
    "sns.distplot(yearlySilver.loc[2050],vertical=True)\n",
    "sns.distplot(PVDemand.loc[2050],vertical=True,color='y')"
   ]
  },
  {
   "cell_type": "code",
   "execution_count": null,
   "metadata": {},
   "outputs": [],
   "source": [
    "# Sensitivity indices plots\n",
    "\n",
    "df_l = [S_silverCell_df,S_PVPC_df,T_silverCell_df-S_silverCell_df,S_otherAg_df]\n",
    "df_names = ['S_silverCell_df','S_PVPC_df','S_2order_silverCellPVPC','S_otherAg_df']\n",
    "colors = ['b','r','g','k']\n",
    "props = [dict(boxes=co, whiskers=co, medians=co, caps=co) for co in colors]\n",
    "fig, ax = plt.subplots()\n",
    "axl = []\n",
    "for id, dfl in enumerate(df_l):\n",
    "    dfl.plot(kind='box',ax=ax,label=df_names[id],positions=[c+id/len(df_l) for c in dfl],color=props[id],patch_artist=True,showfliers=False)\n",
    "    plt.ylim(-0.1,1.1)\n",
    "    matplotlib.rcParams['figure.figsize'] = (20,10)\n",
    "plt.show()"
   ]
  },
  {
   "cell_type": "code",
   "execution_count": null,
   "metadata": {},
   "outputs": [],
   "source": [
    "fig = plt.figure()\n",
    "ax = fig.gca(projection='3d')\n",
    "surf=ax.plot_trisurf(df20503d['silverCell'], df20503d['PVPC'], df20503d['CumulativeSilver'], cmap=plt.cm.jet, linewidth=0.01)\n",
    "ax.set_xlabel('Silver Contact metallization decrease pace')\n",
    "ax.set_ylabel('PV Power Capacity increase pace')\n",
    "ax.set_zlabel('Cumulative Silver 2050 (kton)')\n",
    "fig.colorbar(surf, shrink=0.5, aspect=5)\n",
    "plt.show()"
   ]
  },
  {
   "cell_type": "code",
   "execution_count": null,
   "metadata": {},
   "outputs": [],
   "source": [
    "fig = plt.figure()\n",
    "ax = fig.gca(projection='3d')\n",
    "surf=ax.plot_trisurf(df20503d['silverCell'], df20503d['PVPC'], df20503d['yearlySilver'], cmap=plt.cm.jet, linewidth=0.01)\n",
    "ax.set_xlabel('Silver Contact metallization decrease pace')\n",
    "ax.set_ylabel('PV Power Capacity increase pace')\n",
    "ax.set_zlabel('Yearly Silver 2050 (kton)')\n",
    "fig.colorbar(surf, shrink=0.5, aspect=5)\n",
    "plt.show()"
   ]
  }
 ],
 "metadata": {
  "kernelspec": {
   "display_name": "Python 3",
   "language": "python",
   "name": "python3"
  },
  "language_info": {
   "codemirror_mode": {
    "name": "ipython",
    "version": 3
   },
   "file_extension": ".py",
   "mimetype": "text/x-python",
   "name": "python",
   "nbconvert_exporter": "python",
   "pygments_lexer": "ipython3",
   "version": "3.6.7"
  }
 },
 "nbformat": 4,
 "nbformat_minor": 2
}
