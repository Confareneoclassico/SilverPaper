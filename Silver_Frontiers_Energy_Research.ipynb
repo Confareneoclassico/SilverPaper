{
 "cells": [
  {
   "cell_type": "markdown",
   "metadata": {},
   "source": [
    "#### Set conditions for the plots and import the relevant packages"
   ]
  },
  {
   "cell_type": "code",
   "execution_count": null,
   "metadata": {},
   "outputs": [],
   "source": [
    "%matplotlib inline\n",
    "\n",
    "# plot configuration\n",
    "import matplotlib\n",
    "import matplotlib.pyplot as plt\n",
    "import matplotlib.patches as mpatches\n",
    "\n",
    "plt.style.use(\"ggplot\")\n",
    "\n",
    "matplotlib.rcParams['figure.figsize']  = (7.0,5.0)"
   ]
  },
  {
   "cell_type": "code",
   "execution_count": null,
   "metadata": {},
   "outputs": [],
   "source": [
    "import numpy as np\n",
    "from scipy import special, stats\n",
    "import sobol_seq\n",
    "import pandas as pd\n",
    "from statsmodels.tsa.arima_model import ARIMA\n",
    "import seaborn as sns\n",
    "from mpl_toolkits.mplot3d import Axes3D\n",
    "from openpyxl import load_workbook\n",
    "import types\n",
    "import pkg_resources"
   ]
  },
  {
   "cell_type": "markdown",
   "metadata": {},
   "source": [
    "### Check the packages requirements for reproducibility"
   ]
  },
  {
   "cell_type": "code",
   "execution_count": null,
   "metadata": {},
   "outputs": [],
   "source": [
    "def get_imports():\n",
    "    for name, val in globals().items():\n",
    "        if isinstance(val, types.ModuleType):\n",
    "            \n",
    "            name = val.__name__.split(\".\")[0]\n",
    "\n",
    "        elif isinstance(val, type):\n",
    "            name = val.__module__.split(\".\")[0]\n",
    "            \n",
    "        poorly_named_packages = {\n",
    "            \"PIL\": \"Pillow\",\n",
    "            \"sklearn\": \"scikit-learn\"\n",
    "        }\n",
    "        if name in poorly_named_packages.keys():\n",
    "            name = poorly_named_packages[name]\n",
    "\n",
    "        yield name\n",
    "imports = list(set(get_imports()))\n",
    "\n",
    "requirements = []\n",
    "for m in pkg_resources.working_set:\n",
    "    if m.project_name in imports and m.project_name!=\"pip\":\n",
    "        requirements.append((m.project_name, m.version))\n",
    "\n",
    "for r in requirements:\n",
    "    print(\"{}=={}\".format(*r))"
   ]
  },
  {
   "cell_type": "code",
   "execution_count": null,
   "metadata": {},
   "outputs": [],
   "source": [
    "def decreasePaceSilver2050(silverCell):\n",
    "    return - 1/(2050-2017) * np.log(silverCell/ITRPV2018silverCell2017)\n",
    "\n",
    "def mu(x):\n",
    "    return np.mean(x)\n",
    "\n",
    "def sigma(x):\n",
    "    return np.std(x)"
   ]
  },
  {
   "cell_type": "code",
   "execution_count": null,
   "metadata": {},
   "outputs": [],
   "source": [
    "sampleTot = sobol_seq.i4_sobol_generate(13,1000*2**13).T"
   ]
  },
  {
   "cell_type": "markdown",
   "metadata": {},
   "source": [
    "### Current use of silver paste (mg/cell) - year 2017 - source ITRPV 2018"
   ]
  },
  {
   "cell_type": "code",
   "execution_count": null,
   "metadata": {},
   "outputs": [],
   "source": [
    "ITRPV2018silverCell2017 = 100\n",
    "ITRPVsilverCell2028 = 50 \n",
    "ITRPV2018decreasePace= - 1/(2028-2017) * np.log(ITRPVsilverCell2028/ITRPV2018silverCell2017)"
   ]
  },
  {
   "cell_type": "markdown",
   "metadata": {},
   "source": [
    "### Silver cell decrease pace - distribution generated on the basis of the experts consultation"
   ]
  },
  {
   "cell_type": "code",
   "execution_count": null,
   "metadata": {},
   "outputs": [],
   "source": [
    "silverCell2050DecreasePace = np.array([ITRPV2018decreasePace, ITRPV2018decreasePace, \\\n",
    "decreasePaceSilver2050(ITRPV2018silverCell2017*0.01), decreasePaceSilver2050(ITRPV2018silverCell2017*0.01),\\\n",
    "decreasePaceSilver2050(10), decreasePaceSilver2050(15),decreasePaceSilver2050((20+10)/2), 0.05])"
   ]
  },
  {
   "cell_type": "markdown",
   "metadata": {},
   "source": [
    "### PV Cell Efficiency growth up to the year 2050 (W/cell)"
   ]
  },
  {
   "cell_type": "code",
   "execution_count": null,
   "metadata": {},
   "outputs": [],
   "source": [
    "PVCellEfficiency2017 = 4.27\n",
    "\n",
    "PVCellEfficiency2050 = 6.1 \n",
    "\n",
    "PVCellEfficiencyIncreasePace = 1/(2050-2017) * np.log(PVCellEfficiency2050/PVCellEfficiency2017)"
   ]
  },
  {
   "cell_type": "markdown",
   "metadata": {},
   "source": [
    "### Current expansion of PV power capacity (GW) - year 2017"
   ]
  },
  {
   "cell_type": "code",
   "execution_count": null,
   "metadata": {},
   "outputs": [],
   "source": [
    "PVPC2017 = 90\n",
    "CrystallineSiliconShare = 0.9\n",
    "IEA2050 = 4670\n",
    "Greenpeace2050 = 9295\n",
    "Fraunhofer2050 = 30700\n",
    "CPVPC2017 = 402\n",
    "\n",
    "IEA2050_CrystallineSiliconShare = IEA2050 * CrystallineSiliconShare\n",
    "Greenpeace2050_CrystallineSiliconShare = Greenpeace2050 * CrystallineSiliconShare\n",
    "Fraunhofer2050_CrystallineSiliconShare = Fraunhofer2050 * CrystallineSiliconShare\n",
    "PVPC2017_CrystallineSiliconShare = PVPC2017 * CrystallineSiliconShare\n",
    "\n",
    "PVPC2050IncreasePace = np.array([0.025, 0.112, 0.061])"
   ]
  },
  {
   "cell_type": "markdown",
   "metadata": {},
   "source": [
    "### Non-industrial + Industrial Non-PV"
   ]
  },
  {
   "cell_type": "code",
   "execution_count": null,
   "metadata": {},
   "outputs": [],
   "source": [
    "wb = load_workbook(filename='Datum.xlsx', read_only=True)\n",
    "\n",
    "ws = wb['World_silver_survey_2018']\n",
    "\n",
    "# Read the cell values into a list of lists\n",
    "data_rows = []\n",
    "for row in ws['B26':'M26']:\n",
    "    data_cols = []\n",
    "    for cell in row:\n",
    "        data_cols.append(cell.value)\n",
    "    data_rows.append(data_cols)\n",
    "\n",
    "otherAg = pd.DataFrame(data_rows).T\n",
    "otherAg.index=[y for y in range(2006,2018)]\n",
    "# A negative correlation between the two variables has been confirmed by checking the sign of the anti-diagonal matrix"
   ]
  },
  {
   "cell_type": "markdown",
   "metadata": {},
   "source": [
    "### Yearly extraction capacity"
   ]
  },
  {
   "cell_type": "code",
   "execution_count": null,
   "metadata": {},
   "outputs": [],
   "source": [
    "Extraction = pd.read_excel('Datum.xlsx',sheet_name='USGS',index_col=0)\n",
    "Extraction.columns = ['Global Production']"
   ]
  },
  {
   "cell_type": "markdown",
   "metadata": {},
   "source": [
    "### Generate the parameters distribution "
   ]
  },
  {
   "cell_type": "code",
   "execution_count": null,
   "metadata": {},
   "outputs": [],
   "source": [
    "silverCellDistribution2 = pd.DataFrame(sigma(silverCell2050DecreasePace)*2**0.5*special.erfinv(2*(sampleTot[0][:2**13]*\n",
    "0.5*(special.erf((silverCell2050DecreasePace.max()-mu(silverCell2050DecreasePace))/(sigma(silverCell2050DecreasePace)*2**0.5))-\n",
    "special.erf(-mu(silverCell2050DecreasePace)/(sigma(silverCell2050DecreasePace)*2**0.5)))+0.5*\n",
    "special.erf(-mu(silverCell2050DecreasePace)/(sigma(silverCell2050DecreasePace)*2**0.5))))+mu(silverCell2050DecreasePace))\n",
    "\n",
    "silverCellDistribution2B = pd.DataFrame(sigma(silverCell2050DecreasePace)*2**0.5*special.erfinv(2*(sampleTot[6][:2**13]*\n",
    "0.5*(special.erf((silverCell2050DecreasePace.max()-mu(silverCell2050DecreasePace))/(sigma(silverCell2050DecreasePace)*2**0.5))-\n",
    "special.erf(-mu(silverCell2050DecreasePace)/(sigma(silverCell2050DecreasePace)*2**0.5)))+0.5*\n",
    "special.erf(-mu(silverCell2050DecreasePace)/(sigma(silverCell2050DecreasePace)*2**0.5))))+mu(silverCell2050DecreasePace))\n",
    "\n",
    "PVPC2050IncreasePaceDist = pd.DataFrame(pd.DataFrame(sigma(PVPC2050IncreasePace)*2**0.5*special.erfinv(2*(sampleTot[1][:2**13]*\n",
    "0.5*(special.erf((PVPC2050IncreasePace.max()-mu(PVPC2050IncreasePace))/(sigma(PVPC2050IncreasePace)*2**0.5))-\n",
    "special.erf(-mu(PVPC2050IncreasePace)/(sigma(PVPC2050IncreasePace)*2**0.5)))+0.5*\n",
    "special.erf(-mu(PVPC2050IncreasePace)/(sigma(PVPC2050IncreasePace)*2**0.5))))+mu(PVPC2050IncreasePace)))\n",
    "\n",
    "PVPC2050IncreasePaceDistB = pd.DataFrame(pd.DataFrame(sigma(PVPC2050IncreasePace)*2**0.5*special.erfinv(2*(sampleTot[7][:2**13]*\n",
    "0.5*(special.erf((PVPC2050IncreasePace.max()-mu(PVPC2050IncreasePace))/(sigma(PVPC2050IncreasePace)*2**0.5))-\n",
    "special.erf(-mu(PVPC2050IncreasePace)/(sigma(PVPC2050IncreasePace)*2**0.5)))+0.5*\n",
    "special.erf(-mu(PVPC2050IncreasePace)/(sigma(PVPC2050IncreasePace)*2**0.5))))+mu(PVPC2050IncreasePace)))\n",
    "\n",
    "Noise = pd.DataFrame(sigma(sampleTot[2][:2**13])*2**0.5*special.erfinv(2*sampleTot[2][:2**13]-1))\n",
    "NoiseB = pd.DataFrame(sigma(sampleTot[8][:2**13])*2**0.5*special.erfinv(2*sampleTot[8][:2**13]-1))\n",
    "\n",
    "# Resources and reserves\n",
    "distributionSilverReserveResource = pd.DataFrame(sampleTot[4][:2**13]*(4000-530)+530)\n",
    "distributionSilverReserveResourceB = pd.DataFrame(sampleTot[10][:2**13]*(4000-530)+530)"
   ]
  },
  {
   "cell_type": "markdown",
   "metadata": {},
   "source": [
    "### Fit the non-PV Silver use and Silver extraction models"
   ]
  },
  {
   "cell_type": "code",
   "execution_count": null,
   "metadata": {},
   "outputs": [],
   "source": [
    "model = ARIMA((otherAg.reset_index(drop=True)+Noise.iloc[:len(otherAg)])[0], order=(0, 1, 1))\n",
    "model_fit = model.fit(disp=False)\n",
    "# make prediction\n",
    "yhat = model_fit.predict(len(otherAg), 44, typ='levels')\n",
    "yhat.index = yhat.index + 2006\n",
    "forecast, stderr, conf = model_fit.forecast(33)\n",
    "\n",
    "modelB = ARIMA((otherAg.reset_index(drop=True)+NoiseB.iloc[:len(otherAg)])[0], order=(0, 1, 1))\n",
    "model_fitB = modelB.fit(disp=False)\n",
    "# make prediction\n",
    "yhatB = model_fitB.predict(len(otherAg), 44, typ='levels')\n",
    "yhatB.index = yhat.index\n",
    "forecastB, stderrB, confB = model_fitB.forecast(33)\n",
    "\n",
    "model2 = ARIMA(((Extraction['Global Production'].reset_index(drop=True)+Noise.iloc[:len(Extraction)].T).T)[0],\n",
    "               order=(0, 2, 1))\n",
    "model_fit2 = model2.fit(disp=False)\n",
    "# make prediction\n",
    "yhat2 = model_fit2.predict(len(Extraction), 105, typ='levels')\n",
    "yhat2.index = yhat2.index+1946\n",
    "forecast2, stderr2, conf2 = model_fit2.forecast(33)\n",
    "\n",
    "model2B = ARIMA(((Extraction['Global Production'].reset_index(drop=True)+Noise.iloc[:len(Extraction)].T).T)[0], \n",
    "                 order=(0, 2, 1))\n",
    "model_fit2B = model2B.fit(disp=False)\n",
    "# make prediction\n",
    "yhat2B = model_fit2B.predict(len(Extraction), 105, typ='levels')\n",
    "yhat2B.index = yhat2B.index+1946\n",
    "forecast2B, stderr2B, conf2B = model_fit2B.forecast(33)"
   ]
  },
  {
   "cell_type": "markdown",
   "metadata": {},
   "source": [
    "### Generate the distributions for non-PV Silver use and Silver extraction"
   ]
  },
  {
   "cell_type": "code",
   "execution_count": null,
   "metadata": {},
   "outputs": [],
   "source": [
    "otherAgDist = pd.DataFrame([((forecast[i]-conf[i][0])/1.96)*2**0.5*special.erfinv(sampleTot[3][:2**13]*\n",
    "(1-special.erf(-forecast[i]/(((forecast[i]-conf[i][0])/1.96)*2**0.5)))+special.erf(-forecast[i]/\n",
    "(((forecast[i]-conf[i][0])/1.96)*2**0.5)))+forecast[i] for i in range(len(forecast))],index=[i for i in range(2018,2051)])\n",
    "\n",
    "otherAgDistB = pd.DataFrame([((forecastB[i]-confB[i][0])/1.96)*2**0.5*special.erfinv(sampleTot[9][:2**13]*\n",
    "(1-special.erf(-forecastB[i]/(((forecastB[i]-confB[i][0])/1.96)*2**0.5)))+special.erf(-forecastB[i]/\n",
    "(((forecastB[i]-confB[i][0])/1.96)*2**0.5)))+forecastB[i] for i in range(len(forecastB))],index=[i for i in range(2018,2051)])\n",
    "\n",
    "ExtractionDist = pd.DataFrame([((forecast2[i]-conf2[i][0])/1.96)*2**0.5*special.erfinv(sampleTot[5][:2**13]*\n",
    "(1-special.erf(-forecast2[i]/(((forecast2[i]-conf2[i][0])/1.96)*2**0.5)))+special.erf(-forecast2[i]/\n",
    "(((forecast2[i]-conf2[i][0])/1.96)*2**0.5)))+forecast2[i] for i in range(len(forecast2))],index = otherAgDist.index)\n",
    "\n",
    "ExtractionDistB = pd.DataFrame([((forecast2B[i]-conf2B[i][0])/1.96)*2**0.5*special.erfinv(sampleTot[11][:2**13]*\n",
    "(1-special.erf(-forecast2B[i]/(((forecast2B[i]-conf2B[i][0])/1.96)*2**0.5)))+special.erf(-forecast2B[i]/\n",
    "(((forecast2B[i]-conf2B[i][0])/1.96)*2**0.5)))+forecast2B[i] for i in range(len(forecast2B))],index = otherAgDistB.index)"
   ]
  },
  {
   "cell_type": "markdown",
   "metadata": {},
   "source": [
    "#### Assess PV silver demand, Yearly Silver demand (and its derivative), Cumulative Silver demand along with viability and feasibility"
   ]
  },
  {
   "cell_type": "code",
   "execution_count": null,
   "metadata": {},
   "outputs": [],
   "source": [
    "# Generation of the yearly silver output (1,000 metric tonnes)\n",
    "PVDemand = pd.concat([(ITRPV2018silverCell2017 * np.exp(-silverCellDistribution2*i1)/(PVCellEfficiency2017 * \n",
    "np.exp(PVCellEfficiencyIncreasePace*i1)))* PVPC2017 * CrystallineSiliconShare * np.exp(PVPC2050IncreasePaceDist*i1)/\n",
    "1000 for i1 in range(33)],axis=1)\n",
    "\n",
    "PVDemand.columns = [i2 for i2 in range(2018,2051)]\n",
    "\n",
    "PVDemandAB1 = pd.concat([(ITRPV2018silverCell2017 * np.exp(-silverCellDistribution2B*i1)/(PVCellEfficiency2017 * \n",
    "np.exp(PVCellEfficiencyIncreasePace*i1)))* PVPC2017 * CrystallineSiliconShare * np.exp(PVPC2050IncreasePaceDist*i1)/\n",
    "1000 for i1 in range(33)],axis=1)\n",
    "\n",
    "PVDemandAB1.columns = [i2 for i2 in range(2018,2051)]\n",
    "\n",
    "PVDemandAB2 = pd.concat([(ITRPV2018silverCell2017 * np.exp(-silverCellDistribution2*i1)/(PVCellEfficiency2017 * \n",
    "np.exp(PVCellEfficiencyIncreasePace*i1)))* PVPC2017 * CrystallineSiliconShare * np.exp(PVPC2050IncreasePaceDistB*i1)/\n",
    "1000 for i1 in range(33)],axis=1)\n",
    "\n",
    "PVDemandAB2.columns = [i2 for i2 in range(2018,2051)]\n",
    "\n",
    "PVDemandB = pd.concat([(ITRPV2018silverCell2017 * np.exp(-silverCellDistribution2B*i1)/(PVCellEfficiency2017 * \n",
    "np.exp(PVCellEfficiencyIncreasePace*i1)))* PVPC2017 * CrystallineSiliconShare * np.exp(PVPC2050IncreasePaceDistB*i1)/\n",
    "1000 for i1 in range(33)],axis=1)\n",
    "\n",
    "PVDemandB.columns = [i2 for i2 in range(2018,2051)]\n",
    "\n",
    "# Generation of the cumulative silver output (1,000 metric tonnes)\n",
    "yearlySilver = PVDemand+otherAgDist.T\n",
    "yearlySilverAB1 = PVDemandAB1+otherAgDist.T\n",
    "yearlySilverAB2 = PVDemandAB2+otherAgDist.T\n",
    "yearlySilverAB3 = PVDemand+otherAgDistB.T\n",
    "yearlySilverB = PVDemandB+otherAgDistB.T\n",
    "\n",
    "CumulativeSilver = yearlySilver.cumsum(axis=1)\n",
    "CumulativeSilverAB1 = yearlySilverAB1.cumsum(axis=1)\n",
    "CumulativeSilverAB2 = yearlySilverAB2.cumsum(axis=1)\n",
    "CumulativeSilverAB3 = yearlySilverAB3.cumsum(axis=1)\n",
    "CumulativeSilverB = yearlySilverB.cumsum(axis=1)\n",
    "\n",
    "# Derivative Yearly Silver Demand\n",
    "derivativeYearlySilver = yearlySilver.diff(axis=1)\n",
    "\n",
    "# Yearly Delta (viability, technological constraint)\n",
    "\n",
    "silverDelta = ExtractionDist.T - 0.8*yearlySilver\n",
    "\n",
    "# Cumulative Delta (feasibility, biophysical constraint)\n",
    "\n",
    "Difference = distributionSilverReserveResource.values-CumulativeSilver\n",
    "DifferenceAB1 = distributionSilverReserveResource.values-CumulativeSilverAB1\n",
    "DifferenceAB2 = distributionSilverReserveResource.values-CumulativeSilverAB2\n",
    "DifferenceAB3 = distributionSilverReserveResource.values-CumulativeSilverAB3\n",
    "DifferenceAB4 = distributionSilverReserveResourceB.values-CumulativeSilver\n",
    "DifferenceB = distributionSilverReserveResourceB.values-CumulativeSilverB"
   ]
  },
  {
   "cell_type": "markdown",
   "metadata": {},
   "source": [
    "### Bootstrap Sensitivity indices "
   ]
  },
  {
   "cell_type": "code",
   "execution_count": null,
   "metadata": {},
   "outputs": [],
   "source": [
    "sM_S = [yearlySilver,yearlySilverAB1,yearlySilverAB2,yearlySilverAB3,yearlySilverB]\n",
    "\n",
    "S_silverCell = []\n",
    "S_PVPC = []\n",
    "S_otherAg = []\n",
    "T_silverCell = []\n",
    "T_PVPC = []\n",
    "T_otherAg = []\n",
    "\n",
    "for r in range(1000):\n",
    "    seed = (sampleTot[-1,r*len(yearlySilver):(r+1)*len(yearlySilver)]*len(yearlySilver)).astype(int)\n",
    "    \n",
    "    sM_BS = [smS.merge(pd.DataFrame(index=seed), left_index=True, right_index=True, how='right') for smS in sM_S]\n",
    "    \n",
    "    Var = pd.concat([sM_BS[0],sM_BS[-1]]).var(ddof=0)\n",
    "    \n",
    "    S_silverCell.append(((Var-0.5*((sM_BS[-1]-sM_BS[1])**2).mean())/Var).values)\n",
    "    S_PVPC.append(((Var-0.5*((sM_BS[-1]-sM_BS[2])**2).mean())/Var).values)\n",
    "    S_otherAg.append(((Var-0.5*((sM_BS[-1]-sM_BS[3])**2).mean())/Var).values)\n",
    "    T_silverCell.append(((0.5*((sM_BS[0]-sM_BS[1])**2).mean())/Var).values)\n",
    "    T_PVPC.append(((0.5*((sM_BS[0]-sM_BS[2])**2).mean())/Var).values)\n",
    "    T_otherAg.append(((0.5*((sM_BS[0]-sM_BS[3])**2).mean())/Var).values)\n",
    "\n",
    "cln = [yr for yr in range(2018,2051)]\n",
    "S_silverCell_df = pd.DataFrame(S_silverCell,columns=cln)\n",
    "S_PVPC_df = pd.DataFrame(S_PVPC,columns=cln)\n",
    "S_otherAg_df = pd.DataFrame(S_otherAg,columns=cln)\n",
    "T_silverCell_df = pd.DataFrame(T_silverCell,columns=cln)\n",
    "T_PVPC_df = pd.DataFrame(T_PVPC,columns=cln)\n",
    "T_otherAg_df = pd.DataFrame(T_otherAg,columns=cln)"
   ]
  },
  {
   "cell_type": "markdown",
   "metadata": {},
   "source": [
    "### Get the 2050 figures for the Smirnov-Kolmorov test"
   ]
  },
  {
   "cell_type": "code",
   "execution_count": null,
   "metadata": {},
   "outputs": [],
   "source": [
    "df20503d = pd.concat([silverCellDistribution2,PVPC2050IncreasePaceDist,pd.DataFrame([df2050[2050] for df2050 in \n",
    "            [otherAgDist.T,yearlySilver,CumulativeSilver,silverDelta,Difference]]).T],axis=1)\n",
    "\n",
    "df20503d.columns = ['silverCell','PVPC','nonPVsilver','yearlySilver','CumulativeSilver','yearly Delta','Difference']"
   ]
  },
  {
   "cell_type": "code",
   "execution_count": null,
   "metadata": {},
   "outputs": [],
   "source": [
    "BVsilverCell=df20503d['silverCell'][df20503d['yearly Delta']>0].sort_values()\n",
    "BVsilverCellCum = BVsilverCell.cumsum()/BVsilverCell.sum()\n",
    "NBVsilverCell=df20503d['silverCell'][df20503d['yearly Delta']<0].sort_values()\n",
    "NBVsilverCellCum = NBVsilverCell.cumsum()/NBVsilverCell.sum()\n",
    "\n",
    "ax1 = plt.plot(BVsilverCell,BVsilverCellCum,label='silverCell_viable',c='b')\n",
    "plt.plot(NBVsilverCell,NBVsilverCellCum,label='silverCell_not_viable',c='r')\n",
    "plt.legend()"
   ]
  },
  {
   "cell_type": "code",
   "execution_count": null,
   "metadata": {},
   "outputs": [],
   "source": [
    "BFsilverCell=df20503d['silverCell'][df20503d['Difference']>0].sort_values()\n",
    "BFsilverCellCum = BFsilverCell.cumsum()/BFsilverCell.sum()\n",
    "NBFsilverCell=df20503d['silverCell'][df20503d['Difference']<0].sort_values()\n",
    "NBFsilverCellCum = NBFsilverCell.cumsum()/NBFsilverCell.sum()\n",
    "\n",
    "ax1 = plt.plot(BFsilverCell,BFsilverCellCum,label='silverCell_feasible',c='b')\n",
    "plt.plot(NBFsilverCell,NBFsilverCellCum,label='silverCell_not_feasible',c='r')\n",
    "plt.legend()"
   ]
  },
  {
   "cell_type": "code",
   "execution_count": null,
   "metadata": {},
   "outputs": [],
   "source": [
    "BVPVPC=df20503d['PVPC'][df20503d['yearly Delta']>0].sort_values()\n",
    "BVPVPCCum = BVPVPC.cumsum()/BVPVPC.sum()\n",
    "NBVPVPC=df20503d['PVPC'][df20503d['yearly Delta']<0].sort_values()\n",
    "NBVPVPCCum = NBVPVPC.cumsum()/NBVPVPC.sum()\n",
    "\n",
    "ax1 = plt.plot(BVPVPC,BVPVPCCum,label='PVPC_viable',c='b')\n",
    "plt.plot(NBVPVPC,NBVPVPCCum,label='PVPC_not_viable',c='r')\n",
    "plt.legend()"
   ]
  },
  {
   "cell_type": "code",
   "execution_count": null,
   "metadata": {},
   "outputs": [],
   "source": [
    "BFPVPC=df20503d['PVPC'][df20503d['Difference']>0].sort_values()\n",
    "BFPVPCCum = BFPVPC.cumsum()/BFPVPC.sum()\n",
    "NBFPVPC=df20503d['PVPC'][df20503d['Difference']<0].sort_values()\n",
    "NBFPVPCCum = NBFPVPC.cumsum()/NBFPVPC.sum()\n",
    "\n",
    "ax1 = plt.plot(BFPVPC,BFPVPCCum,label='PVPC_feasible',c='b')\n",
    "plt.plot(NBFPVPC,NBFPVPCCum,label='PVPC_not_feasible',c='r')\n",
    "plt.legend()"
   ]
  },
  {
   "cell_type": "code",
   "execution_count": null,
   "metadata": {},
   "outputs": [],
   "source": [
    "#Smirnov-Kolmorov Test\n",
    "\n",
    "BVnonPVsilver=df20503d['nonPVsilver'][df20503d['yearly Delta']>0].sort_values()\n",
    "BVnonPVsilverCum = BVnonPVsilver.cumsum()/BVnonPVsilver.sum()\n",
    "NBVnonPVsilver=df20503d['nonPVsilver'][df20503d['yearly Delta']<0].sort_values()\n",
    "NBVnonPVsilverCum = NBVnonPVsilver.cumsum()/NBVnonPVsilver.sum()\n",
    "\n",
    "ax1 = plt.plot(BVnonPVsilver,BVnonPVsilverCum,label='nonPVsilver_viable',c='b')\n",
    "plt.plot(NBVnonPVsilver,NBVnonPVsilverCum,label='nonPVsilver_not_viable',c='r')\n",
    "plt.legend()"
   ]
  },
  {
   "cell_type": "code",
   "execution_count": null,
   "metadata": {},
   "outputs": [],
   "source": [
    "#Smirnov-Kolmorov Test\n",
    "\n",
    "BFnonPVsilver=df20503d['nonPVsilver'][df20503d['Difference']>0].sort_values()\n",
    "BFnonPVsilverCum = BFnonPVsilver.cumsum()/BFnonPVsilver.sum()\n",
    "NBFnonPVsilver=df20503d['nonPVsilver'][df20503d['Difference']<0].sort_values()\n",
    "NBFnonPVsilverCum = NBFnonPVsilver.cumsum()/NBFnonPVsilver.sum()\n",
    "\n",
    "ax1 = plt.plot(BFnonPVsilver,BFnonPVsilverCum,label='nonPVsilver_feasible',c='b')\n",
    "plt.plot(NBFnonPVsilver,NBFnonPVsilverCum,label='nonPVsilver_not_feasible',c='r')\n",
    "plt.legend()"
   ]
  },
  {
   "cell_type": "markdown",
   "metadata": {},
   "source": [
    "### Analysing the distributions over time"
   ]
  },
  {
   "cell_type": "code",
   "execution_count": null,
   "metadata": {},
   "outputs": [],
   "source": [
    "for col in yearlySilver:\n",
    "    plt.plot([col for row in range(len(yearlySilver))], yearlySilver[col], c = 'r')\n",
    "    plt.xlabel('Year')\n",
    "    plt.ylabel('Yearly silver demand (kton)')\n",
    "plt.show()"
   ]
  },
  {
   "cell_type": "code",
   "execution_count": null,
   "metadata": {},
   "outputs": [],
   "source": [
    "sns.distplot(yearlySilver[2050],vertical=True,color='r')\n",
    "plt.xlabel('Relative frequency')\n",
    "plt.ylabel('Yearly silver demand (kton)')"
   ]
  },
  {
   "cell_type": "code",
   "execution_count": null,
   "metadata": {},
   "outputs": [],
   "source": [
    "for col in PVDemand:\n",
    "    plt.plot([col for row in range(len(PVDemand))], PVDemand[col], c = 'y')\n",
    "    plt.xlabel('Year')\n",
    "    plt.ylabel('Yearly PV silver demand (kton)')\n",
    "plt.show()"
   ]
  },
  {
   "cell_type": "code",
   "execution_count": null,
   "metadata": {},
   "outputs": [],
   "source": [
    "sns.distplot(PVDemand[2050],vertical=True,color='y')\n",
    "plt.xlabel('Relative frequency')\n",
    "plt.ylabel('Yearly PV silver demand (kton)')"
   ]
  },
  {
   "cell_type": "code",
   "execution_count": null,
   "metadata": {},
   "outputs": [],
   "source": [
    "for col in derivativeYearlySilver:\n",
    "    plt.plot([col for row in range(len(derivativeYearlySilver))], derivativeYearlySilver[col], c = 'k')\n",
    "    plt.xlabel('Year')\n",
    "    plt.ylabel('Yearly derivative silver demand (kton)')\n",
    "plt.show()"
   ]
  },
  {
   "cell_type": "code",
   "execution_count": null,
   "metadata": {},
   "outputs": [],
   "source": [
    "for col in silverDelta:\n",
    "    plt.plot([col for row in range(len(silverDelta))], silverDelta[col], c = 'c')\n",
    "    plt.xlabel('Year')\n",
    "    plt.ylabel('Yearly difference (kton)')\n",
    "plt.show()"
   ]
  },
  {
   "cell_type": "code",
   "execution_count": null,
   "metadata": {},
   "outputs": [],
   "source": [
    "sns.distplot(silverDelta[2050],vertical=True,color='c')\n",
    "plt.xlabel('Relative frequency')\n",
    "plt.ylabel('Yearly difference (kton)')"
   ]
  },
  {
   "cell_type": "code",
   "execution_count": null,
   "metadata": {},
   "outputs": [],
   "source": [
    "for col in Difference:\n",
    "    plt.plot([col for row in range(len(Difference))], Difference[col], c = 'w')\n",
    "    plt.scatter(col, Difference[col].mean(), c = 'm')\n",
    "    plt.xlabel('Year')\n",
    "    plt.ylabel('Cumulative difference (kton)')\n",
    "plt.show()"
   ]
  },
  {
   "cell_type": "code",
   "execution_count": null,
   "metadata": {},
   "outputs": [],
   "source": [
    "sns.distplot(Difference[2050],vertical=True,color='w')\n",
    "plt.xlabel('Relative frequency')\n",
    "plt.ylabel('Cumulative difference (kton)')"
   ]
  },
  {
   "cell_type": "markdown",
   "metadata": {},
   "source": [
    "### Let's now evaluate the scatter plot trends over time"
   ]
  },
  {
   "cell_type": "code",
   "execution_count": null,
   "metadata": {},
   "outputs": [],
   "source": [
    "for col in yearlySilver.iloc[:, list(range(1)) + [-1]]:\n",
    "    plt.scatter(silverCellDistribution2, yearlySilver[col], s = 2, label = str(col))\n",
    "    plt.plot(np.unique(silverCellDistribution2), \n",
    "    np.poly1d(np.polyfit(silverCellDistribution2[0], yearlySilver[col], 1))(np.unique(silverCellDistribution2)), color='k',\n",
    "            linewidth=1, label = 'Linear regression')\n",
    "    plt.xlabel('$PV_{Ag}R_{d}$')\n",
    "    plt.ylabel('Yearly PV silver demand (kton)')\n",
    "    plt.legend()\n",
    "    plt.show()"
   ]
  },
  {
   "cell_type": "code",
   "execution_count": null,
   "metadata": {},
   "outputs": [],
   "source": [
    "for col in yearlySilver.iloc[:, list(range(1)) + [-1]]:\n",
    "    plt.scatter(PVPC2050IncreasePaceDist, yearlySilver[col], c = 'g',s = 2, label = str(col))\n",
    "    plt.plot(np.unique(PVPC2050IncreasePaceDist), \n",
    "    np.poly1d(np.polyfit(PVPC2050IncreasePaceDist[0], yearlySilver[col], 1))(np.unique(PVPC2050IncreasePaceDist)), color='k',\n",
    "            linewidth=1, label = 'Linear regression')\n",
    "    plt.xlabel('$PC_{PV}R_{i}$')\n",
    "    plt.ylabel('Yearly PV silver demand (kton)')\n",
    "    plt.legend()\n",
    "    plt.show()"
   ]
  },
  {
   "cell_type": "code",
   "execution_count": null,
   "metadata": {},
   "outputs": [],
   "source": [
    "for col in yearlySilver.iloc[:, list(range(1)) + [-1]]:\n",
    "    plt.scatter(otherAgDist.loc[col], yearlySilver[col], c = 'b',s = 2, label = str(col))\n",
    "    plt.plot(np.unique(otherAgDist.loc[col]), \n",
    "    np.poly1d(np.polyfit(otherAgDist.loc[col].values, yearlySilver[col], 1))(np.unique(otherAgDist.loc[col].values)), color='k',\n",
    "            linewidth=1, label = 'Linear regression')\n",
    "    plt.xlabel('$nPV_{Ag}$ (kton)')\n",
    "    plt.ylabel('Yearly PV silver demand (kton)')\n",
    "    plt.legend()\n",
    "    plt.show()"
   ]
  },
  {
   "cell_type": "markdown",
   "metadata": {},
   "source": [
    "### Sensitivity indices plots"
   ]
  },
  {
   "cell_type": "code",
   "execution_count": null,
   "metadata": {},
   "outputs": [],
   "source": [
    "# Sensitivity indices plots\n",
    "df_l = [S_silverCell_df,S_PVPC_df,T_PVPC_df-S_PVPC_df,S_otherAg_df]\n",
    "df_names = ['S_silverCell_df','S_PVPC_df','S_2order_silverCellPVPC','S_otherAg_df']\n",
    "colors = ['b','r','g','k']\n",
    "props = [dict(boxes=co, whiskers=co, medians=co, caps=co) for co in colors]\n",
    "\n",
    "fig, ax = plt.subplots()\n",
    "patch = []\n",
    "for id, dfl in enumerate(df_l):\n",
    "    fig.add_subplot()\n",
    "    ax = dfl.plot(kind='box',ax=ax,label=df_names[id],positions=[c+id/len(df_l) for c in dfl],color=props[id],patch_artist=True,showfliers=False)\n",
    "fig.legend()\n",
    "plt.ylim(-0.1,1.1)\n",
    "plt.show()"
   ]
  },
  {
   "cell_type": "code",
   "execution_count": 51,
   "metadata": {},
   "outputs": [
    {
     "data": {
      "image/png": "[encoded data removed]",
      "text/plain": [
       "<Figure size 504x360 with 1 Axes>"
      ]
     },
     "metadata": {},
     "output_type": "display_data"
    }
   ],
   "source": [
    "matplotlib.rcParams['figure.figsize']  = (7.0,5.0)\n",
    "df_l = [S_silverCell_df,S_PVPC_df,T_PVPC_df-S_PVPC_df,S_otherAg_df]\n",
    "df_names = ['$S_{PV_{Ag}R_{d}}$','$S_{PC_{PV}R_{i}}$','$S_{PV_{Ag}R_{d},PC_{PV}R_{i}}$','$S_{nPV_{Ag}}$']\n",
    "colors = ['b','r','g','k']\n",
    "for id, dfl in enumerate(df_l):\n",
    "    for c in dfl:\n",
    "        plt.scatter(c,dfl[c].mean(),c=colors[id],label = df_names[id] if c == 2018 else \"\") \n",
    "plt.legend(prop={'size': 15})\n",
    "plt.xlabel('Year')\n",
    "plt.show()"
   ]
  },
  {
   "cell_type": "code",
   "execution_count": null,
   "metadata": {},
   "outputs": [],
   "source": [
    "for dl in df_l: #Print out the confidence interval for the sensitivity indices in the year 2050\n",
    "    print(stats.t.interval(0.95, len(dl[2050])-1, loc=np.mean(dl[2050]), scale=stats.sem(dl[2050])))"
   ]
  },
  {
   "cell_type": "markdown",
   "metadata": {},
   "source": [
    "### 3D plots to the year 2050"
   ]
  },
  {
   "cell_type": "code",
   "execution_count": null,
   "metadata": {},
   "outputs": [],
   "source": [
    "fig = plt.figure()\n",
    "ax = fig.gca(projection='3d')\n",
    "surf=ax.plot_trisurf(df20503d['silverCell'], df20503d['PVPC'], df20503d['yearlySilver'], cmap=plt.cm.jet, linewidth=0.01)\n",
    "ax.set_xlabel('$PV_{Ag}R_{d}$')\n",
    "ax.set_ylabel('$PC_{PV}R_{i}$')\n",
    "ax.set_zlabel('Yearly silver demand 2050 (kton)')\n",
    "fig.colorbar(surf, shrink=0.5, aspect=5)\n",
    "plt.show()"
   ]
  },
  {
   "cell_type": "code",
   "execution_count": null,
   "metadata": {},
   "outputs": [],
   "source": [
    "fig = plt.figure()\n",
    "ax = fig.gca(projection='3d')\n",
    "surf=ax.plot_trisurf(df20503d['silverCell'], df20503d['PVPC'], df20503d['CumulativeSilver'], cmap=plt.cm.jet, linewidth=0.01)\n",
    "ax.set_xlabel('$PV_{Ag}R_{d}$')\n",
    "ax.set_ylabel('$PC_{PV}R_{i}$')\n",
    "ax.set_zlabel('Cumulative Silver demand 2050 (kton)')\n",
    "fig.colorbar(surf, shrink=0.5, aspect=5)\n",
    "plt.show()"
   ]
  },
  {
   "cell_type": "code",
   "execution_count": null,
   "metadata": {},
   "outputs": [],
   "source": [
    "matplotlib.rcParams['figure.figsize'] = (5,5)\n",
    "plt.scatter(df20503d['PVPC'][df20503d['yearly Delta']>0],df20503d['silverCell'][df20503d['yearly Delta']>0],c='g',s=2,\n",
    "           label='Viable_2050')\n",
    "plt.scatter(df20503d['PVPC'][df20503d['yearly Delta']<0],df20503d['silverCell'][df20503d['yearly Delta']<0],c='r',s=2,\n",
    "           label='Non-viable_2050')\n",
    "plt.xlabel('$PC_{PV}R_{i}$')\n",
    "plt.ylabel('$PV_{Ag}R_{d}$')\n",
    "plt.legend()\n",
    "plt.show()"
   ]
  },
  {
   "cell_type": "code",
   "execution_count": null,
   "metadata": {},
   "outputs": [],
   "source": [
    "matplotlib.rcParams['figure.figsize'] = (5,5)\n",
    "plt.scatter(df20503d['PVPC'][df20503d['Difference']>0],df20503d['silverCell'][df20503d['Difference']>0],c='g',s=2,\n",
    "           label='Feasible_2050')\n",
    "plt.scatter(df20503d['PVPC'][df20503d['Difference']<0],df20503d['silverCell'][df20503d['Difference']<0],c='r',s=2,\n",
    "           label='Non-feasible_2050')\n",
    "plt.xlabel('$PC_{PV}R_{i}$')\n",
    "plt.ylabel('$PV_{Ag}R_{d}$')\n",
    "plt.legend()\n",
    "plt.show()"
   ]
  },
  {
   "cell_type": "code",
   "execution_count": null,
   "metadata": {},
   "outputs": [],
   "source": []
  }
 ],
 "metadata": {
  "kernelspec": {
   "display_name": "Python 3",
   "language": "python",
   "name": "python3"
  },
  "language_info": {
   "codemirror_mode": {
    "name": "ipython",
    "version": 3
   },
   "file_extension": ".py",
   "mimetype": "text/x-python",
   "name": "python",
   "nbconvert_exporter": "python",
   "pygments_lexer": "ipython3",
   "version": "3.7.1"
  }
 },
 "nbformat": 4,
 "nbformat_minor": 2
}
