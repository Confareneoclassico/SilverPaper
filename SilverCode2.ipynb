{
 "cells": [
  {
   "cell_type": "markdown",
   "metadata": {},
   "source": [
    "# Silver as a techno/biophysical constraint for a large-scale development of Solar Photovoltaics? Current trends and data quality\n"
   ]
  },
  {
   "cell_type": "markdown",
   "metadata": {},
   "source": [
    "We present in this notebook the code and the rationale behind the example on silver developed"
   ]
  },
  {
   "cell_type": "code",
   "execution_count": 2,
   "metadata": {
    "collapsed": true
   },
   "outputs": [],
   "source": [
    "import numpy as np\n",
    "import chaospy as cp\n",
    "import matplotlib.pyplot as plt"
   ]
  },
  {
   "cell_type": "markdown",
   "metadata": {},
   "source": [
    "The distributions of the four quantities whose trends to the year 2050 are modelled are firstly defined. 10,000 (100,000) quasi-random Sobol distributions are supposed on the basis of the technical coefficients available or provided. i) As regards silver-paste use, a distribution is generated on the basis of the suggestions provided by the pool of experts. A normal distribution is supposed."
   ]
  },
  {
   "cell_type": "code",
   "execution_count": 3,
   "metadata": {
    "collapsed": true
   },
   "outputs": [],
   "source": [
    "# Current use of silver paste (mg/cell) - year 2015\n",
    "\n",
    "ITRPV2016silverCell2015 = 110\n",
    "ITRPVsilverCell2026 = 40 \n",
    "ITRPV2016decreasePace= - 1/(2026-2015) * np.log(ITRPVsilverCell2026/ITRPV2016silverCell2015)\n",
    "\n",
    "silverCell2050a= 110 * 0.01\n",
    "silverCell2050aDecreasePace= - 1/(2050-2015) * np.log(silverCell2050a/ITRPV2016silverCell2015)\n",
    "\n",
    "silverCell2050b = 10\n",
    "silverCell2050bDecreasePace= - 1/(2050-2015) * np.log(silverCell2050b/ITRPV2016silverCell2015)\n",
    "\n",
    "silverCell2050c = 20\n",
    "silverCell2050cDecreasePace= - 1/(2050-2015) * np.log(silverCell2050c/ITRPV2016silverCell2015)\n",
    "\n",
    "silverCell2050dDecreasePace = (silverCell2050cDecreasePace + silverCell2050bDecreasePace)/2\n",
    "\n",
    "silverCell2050eDecreasePace = 0.05\n",
    "\n",
    "silverCell2050DecreasePace = [ITRPV2016decreasePace, ITRPV2016decreasePace, silverCell2050aDecreasePace, silverCell2050aDecreasePace, silverCell2050bDecreasePace,silverCell2050cDecreasePace,silverCell2050dDecreasePace, silverCell2050eDecreasePace]\n",
    "\n",
    "mu = np.mean(silverCell2050DecreasePace)\n",
    "sigma = np.std(silverCell2050DecreasePace)\n",
    "lower= 0\n",
    "\n",
    "distribution = cp.truncnorm(0, np.inf, mu, sigma)\n",
    "silverCellDistribution = distribution.sample(100000, rule=\"S\")\n",
    "np.random.shuffle(silverCellDistribution)\n",
    "\n",
    "distributionB = cp.truncnorm(0, np.inf, mu, sigma)\n",
    "silverCellDistributionB = distributionB.sample(100000, rule=\"S\")\n",
    "np.random.shuffle(silverCellDistributionB)"
   ]
  },
  {
   "cell_type": "markdown",
   "metadata": {},
   "source": [
    "The trend of solar-PV efficiency increased is acknowledged up to the year 2050. A constant pace is also supposed in this case"
   ]
  },
  {
   "cell_type": "code",
   "execution_count": 4,
   "metadata": {
    "collapsed": true
   },
   "outputs": [],
   "source": [
    "# PV Cell Efficiency growth up to the year 2050 (W/cell)\n",
    "\n",
    "PVCellEfficiency2015 = 4.27\n",
    "\n",
    "PVCellEfficiency2050 = 6.1\n",
    "\n",
    "PVCellEfficiencyIncreasePace = 0.10"
   ]
  },
  {
   "cell_type": "markdown",
   "metadata": {},
   "source": [
    "ii) A similar exercise is repeated for the PV power capacity installed up to the year 2050 (on the basis of energy-scenario experts' suggestions received"
   ]
  },
  {
   "cell_type": "code",
   "execution_count": 5,
   "metadata": {
    "collapsed": true
   },
   "outputs": [],
   "source": [
    "# Current expansion of PV power capacity (GW) - year 2015\n",
    "\n",
    "PVPC2015 = 45\n",
    "CrystallineSiliconShare = 0.9\n",
    "IEA2050 = 4670\n",
    "IEA2050_CrystallineSiliconShare = IEA2050 * CrystallineSiliconShare\n",
    "Greenpeace2050 = 9295\n",
    "Greenpeace2050_CrystallineSiliconShare = Greenpeace2050 * CrystallineSiliconShare\n",
    "Fraunhofer2050 = 30700\n",
    "Fraunhofer2050_CrystallineSiliconShare = Fraunhofer2050 * CrystallineSiliconShare\n",
    "\n",
    "PVPC2050IncreasePace = [0.046, 0.122, 0.077]\n",
    "\n",
    "avgPVPC = np.mean(PVPC2050IncreasePace)\n",
    "stdPVPC = np.std(PVPC2050IncreasePace)\n",
    "lower= 0\n",
    "\n",
    "distribution1 = cp.truncnorm(0, np.inf, avgPVPC, stdPVPC)\n",
    "PVPC2050IncreasePaceDistribution = distribution1.sample(100000, rule=\"S\")\n",
    "np.random.shuffle(PVPC2050IncreasePaceDistribution)\n",
    "\n",
    "distribution1B = cp.truncnorm(0, np.inf, avgPVPC, stdPVPC)\n",
    "PVPC2050IncreasePaceDistributionB = distribution1B.sample(100000, rule=\"S\")\n",
    "np.random.shuffle(PVPC2050IncreasePaceDistributionB)"
   ]
  },
  {
   "cell_type": "markdown",
   "metadata": {},
   "source": [
    "Finally, the reduction in other industrial uses and the increment in non-industrial uses are acknowledged through the generation of uniform distributions."
   ]
  },
  {
   "cell_type": "code",
   "execution_count": 6,
   "metadata": {
    "collapsed": true
   },
   "outputs": [],
   "source": [
    "# Reduction in other industrial applications\n",
    "\n",
    "silverOtherIndustrial2015 = 15.9\n",
    "\n",
    "distributionSilverOtherIndustrial = cp.Uniform(-0.05, -0.03)\n",
    "distributionSilverOtherIndustrialPace = distributionSilverOtherIndustrial.sample(100000, rule=\"S\")\n",
    "np.random.shuffle(distributionSilverOtherIndustrialPace)\n",
    "\n",
    "distributionSilverOtherIndustrialB = cp.Uniform(-0.05, -0.03)\n",
    "distributionSilverOtherIndustrialPaceB = distributionSilverOtherIndustrialB.sample(100000, rule=\"S\")\n",
    "np.random.shuffle(distributionSilverOtherIndustrialPaceB)\n",
    "\n",
    "# Increase in non-industrial applications\n",
    "\n",
    "distributionSilverNonIndustrial = cp.Uniform(0.01, 0.03)\n",
    "distributionSilverNonIndustrialPace = distributionSilverNonIndustrial.sample(100000, rule=\"S\")\n",
    "np.random.shuffle(distributionSilverNonIndustrialPace)\n",
    "\n",
    "distributionSilverNonIndustrialB = cp.Uniform(0.01, 0.03)\n",
    "distributionSilverNonIndustrialPaceB = distributionSilverNonIndustrialB.sample(100000, rule=\"S\")\n",
    "np.random.shuffle(distributionSilverNonIndustrialPaceB)\n",
    "\n",
    "silverNonIndustrial2015 = 18.1\n",
    "\n",
    "year = np.arange(2015,2051)\n",
    "yearBase = 2015\n",
    "relativeYear = np.subtract(year,yearBase)"
   ]
  },
  {
   "cell_type": "markdown",
   "metadata": {},
   "source": [
    "In order to appreciate whether we are going to clash against any biophysical constraint, a distribution of the natural available silver is supposed within the range of estimated ultimate recoverable resources (USGS estimate, the most conservative) and the overall resources ideally available."
   ]
  },
  {
   "cell_type": "code",
   "execution_count": 7,
   "metadata": {
    "collapsed": true
   },
   "outputs": [],
   "source": [
    "# Resources and reserves\n",
    "\n",
    "distributionSilverRR = cp.Uniform(570, 4000)\n",
    "distributionSilverReserveResource = distributionSilverRR.sample(10000, rule=\"S\")\n",
    "np.random.shuffle(distributionSilverReserveResource)\n",
    "SilverRRMean = np.mean(distributionSilverReserveResource)"
   ]
  },
  {
   "cell_type": "markdown",
   "metadata": {},
   "source": [
    "The distributions of the yearly and cumulative trends in silver demand are eventually generated (demand side)"
   ]
  },
  {
   "cell_type": "code",
   "execution_count": 9,
   "metadata": {},
   "outputs": [
    {
     "ename": "ValueError",
     "evalue": "operands could not be broadcast together with shapes (100000,) (10000,) ",
     "output_type": "error",
     "traceback": [
      "\u001b[1;31m---------------------------------------------------------------------------\u001b[0m",
      "\u001b[1;31mValueError\u001b[0m                                Traceback (most recent call last)",
      "\u001b[1;32m<ipython-input-9-ce858e771754>\u001b[0m in \u001b[0;36m<module>\u001b[1;34m()\u001b[0m\n\u001b[0;32m     10\u001b[0m \u001b[1;32mfor\u001b[0m \u001b[0mi\u001b[0m \u001b[1;32min\u001b[0m \u001b[0mrange\u001b[0m\u001b[1;33m(\u001b[0m\u001b[1;36m0\u001b[0m\u001b[1;33m,\u001b[0m\u001b[1;36m36\u001b[0m\u001b[1;33m)\u001b[0m\u001b[1;33m:\u001b[0m\u001b[1;33m\u001b[0m\u001b[0m\n\u001b[0;32m     11\u001b[0m     \u001b[0myearlySilver\u001b[0m \u001b[1;33m=\u001b[0m \u001b[1;33m(\u001b[0m\u001b[0mITRPV2016silverCell2015\u001b[0m \u001b[1;33m*\u001b[0m \u001b[0mnp\u001b[0m\u001b[1;33m.\u001b[0m\u001b[0mexp\u001b[0m\u001b[1;33m(\u001b[0m\u001b[1;33m-\u001b[0m\u001b[0msilverCellDistribution\u001b[0m\u001b[1;33m*\u001b[0m\u001b[0mi\u001b[0m\u001b[1;33m)\u001b[0m\u001b[1;33m/\u001b[0m\u001b[1;33m(\u001b[0m\u001b[0mPVCellEfficiency2015\u001b[0m \u001b[1;33m*\u001b[0m \u001b[0mnp\u001b[0m\u001b[1;33m.\u001b[0m\u001b[0mexp\u001b[0m\u001b[1;33m(\u001b[0m\u001b[0mPVCellEfficiencyIncreasePace\u001b[0m\u001b[1;33m*\u001b[0m\u001b[0mi\u001b[0m\u001b[1;33m)\u001b[0m\u001b[1;33m)\u001b[0m\u001b[1;33m)\u001b[0m\u001b[1;33m*\u001b[0m     \u001b[0mPVPC2015\u001b[0m \u001b[1;33m*\u001b[0m \u001b[0mnp\u001b[0m\u001b[1;33m.\u001b[0m\u001b[0mexp\u001b[0m\u001b[1;33m(\u001b[0m\u001b[0mPVPC2050IncreasePaceDistribution\u001b[0m\u001b[1;33m*\u001b[0m\u001b[0mi\u001b[0m\u001b[1;33m)\u001b[0m\u001b[1;33m/\u001b[0m\u001b[1;36m1000\u001b[0m \u001b[1;33m+\u001b[0m \u001b[0msilverOtherIndustrial2015\u001b[0m \u001b[1;33m*\u001b[0m \u001b[0mnp\u001b[0m\u001b[1;33m.\u001b[0m\u001b[0mexp\u001b[0m\u001b[1;33m(\u001b[0m\u001b[0mdistributionSilverOtherIndustrialPace\u001b[0m\u001b[1;33m*\u001b[0m\u001b[0mi\u001b[0m\u001b[1;33m)\u001b[0m \u001b[1;33m+\u001b[0m     \u001b[0msilverNonIndustrial2015\u001b[0m \u001b[1;33m*\u001b[0m \u001b[0mnp\u001b[0m\u001b[1;33m.\u001b[0m\u001b[0mexp\u001b[0m\u001b[1;33m(\u001b[0m\u001b[0mdistributionSilverNonIndustrialPace\u001b[0m\u001b[1;33m*\u001b[0m\u001b[0mi\u001b[0m\u001b[1;33m)\u001b[0m\u001b[1;33m\u001b[0m\u001b[0m\n\u001b[1;32m---> 12\u001b[1;33m     \u001b[0mCumulativeSilver\u001b[0m \u001b[1;33m=\u001b[0m \u001b[0myearlySilver\u001b[0m \u001b[1;33m+\u001b[0m \u001b[0mCumulativeSilver\u001b[0m\u001b[1;33m\u001b[0m\u001b[0m\n\u001b[0m\u001b[0;32m     13\u001b[0m     \u001b[0mCumulativeSilver_array\u001b[0m \u001b[1;33m=\u001b[0m \u001b[0mnp\u001b[0m\u001b[1;33m.\u001b[0m\u001b[0mappend\u001b[0m\u001b[1;33m(\u001b[0m\u001b[0mCumulativeSilver_array\u001b[0m\u001b[1;33m,\u001b[0m \u001b[1;33m[\u001b[0m\u001b[0mCumulativeSilver\u001b[0m\u001b[1;33m]\u001b[0m\u001b[1;33m,\u001b[0m \u001b[0maxis\u001b[0m\u001b[1;33m=\u001b[0m\u001b[1;36m0\u001b[0m\u001b[1;33m)\u001b[0m\u001b[1;33m\u001b[0m\u001b[0m\n\u001b[0;32m     14\u001b[0m     \u001b[0mCumulativeMean\u001b[0m \u001b[1;33m=\u001b[0m \u001b[0mnp\u001b[0m\u001b[1;33m.\u001b[0m\u001b[0mmean\u001b[0m\u001b[1;33m(\u001b[0m\u001b[0mCumulativeSilver_array\u001b[0m\u001b[1;33m,\u001b[0m \u001b[0maxis\u001b[0m\u001b[1;33m=\u001b[0m\u001b[1;36m1\u001b[0m\u001b[1;33m)\u001b[0m\u001b[1;33m\u001b[0m\u001b[0m\n",
      "\u001b[1;31mValueError\u001b[0m: operands could not be broadcast together with shapes (100000,) (10000,) "
     ]
    }
   ],
   "source": [
    "# Generation of the yearly silver output (1,000 metric tonnes)\n",
    "\n",
    "for i in range(0,35):\n",
    "    PVDemand = (ITRPV2016silverCell2015 * np.exp(-silverCellDistribution*i)/(PVCellEfficiency2015 * np.exp(PVCellEfficiencyIncreasePace*i)))* \\\n",
    "    PVPC2015 * np.exp(PVPC2050IncreasePaceDistribution*i)/1000\n",
    "\n",
    "# Generation of the cumulative silver output (1,000 metric tonnes)\n",
    "\n",
    "CumulativeSilver_array = np.empty((0, 10000))\n",
    "CumulativeSilver = np.zeros(10000)\n",
    "for i in range(0,36):\n",
    "    yearlySilver = (ITRPV2016silverCell2015 * np.exp(-silverCellDistribution*i)/(PVCellEfficiency2015 * np.exp(PVCellEfficiencyIncreasePace*i)))* \\\n",
    "    PVPC2015 * np.exp(PVPC2050IncreasePaceDistribution*i)/1000 + silverOtherIndustrial2015 * np.exp(distributionSilverOtherIndustrialPace*i) + \\\n",
    "    silverNonIndustrial2015 * np.exp(distributionSilverNonIndustrialPace*i)\n",
    "    CumulativeSilver = yearlySilver + CumulativeSilver\n",
    "    CumulativeSilver_array = np.append(CumulativeSilver_array, [CumulativeSilver], axis=0)\n",
    "    CumulativeMean = np.mean(CumulativeSilver_array, axis=1)"
   ]
  },
  {
   "cell_type": "markdown",
   "metadata": {},
   "source": [
    "In order to evaluate whether the year-over-year trends, the time derivative of the yearly demand is computed"
   ]
  },
  {
   "cell_type": "code",
   "execution_count": 10,
   "metadata": {
    "collapsed": true
   },
   "outputs": [],
   "source": [
    "# Derivative Yearly Silver Demand\n",
    "\n",
    "for i in range(0,36):\n",
    "    derivativeYearlySilver = (ITRPV2016silverCell2015 * np.exp(-silverCellDistribution*i)/(PVCellEfficiency2015 * np.exp(PVCellEfficiencyIncreasePace*i)))* \\\n",
    "    PVPC2015 * np.exp(PVPC2050IncreasePaceDistribution*i)*(PVPC2050IncreasePaceDistribution - silverCellDistribution - PVCellEfficiencyIncreasePace)/1000 + silverOtherIndustrial2015 * distributionSilverOtherIndustrialPace * np.exp(distributionSilverOtherIndustrialPace*i) + \\\n",
    "    silverNonIndustrial2015 * distributionSilverNonIndustrialPace * np.exp(distributionSilverNonIndustrialPace*i)"
   ]
  },
  {
   "cell_type": "markdown",
   "metadata": {},
   "source": [
    "It is possible to estimate the presence of a (economic/technological) constraint by comparing the yearly demand trend with the yearly extraction capacity from the industry. The latter is modelled by assuming a 2.3% y-o-y increase in line with the global trend observed after World War II.\n"
   ]
  },
  {
   "cell_type": "code",
   "execution_count": 11,
   "metadata": {
    "collapsed": true
   },
   "outputs": [],
   "source": [
    "# Yearly Delta (viability, technological constraint)\n",
    "\n",
    "for i in range(0,36):\n",
    "    yearlySilver = (ITRPV2016silverCell2015 * np.exp(-silverCellDistribution*i)/(PVCellEfficiency2015 * np.exp(PVCellEfficiencyIncreasePace*i)))* \\\n",
    "    PVPC2015 * np.exp(PVPC2050IncreasePaceDistribution*i)/1000 + silverOtherIndustrial2015 * np.exp(distributionSilverOtherIndustrialPace*i) + \\\n",
    "    silverNonIndustrial2015 * np.exp(distributionSilverNonIndustrialPace*i)\n",
    "    silverExtraction = 27.6 * np.exp(0.226*i)\n",
    "    silverDelta = np.subtract(silverExtraction, yearlySilver)"
   ]
  },
  {
   "cell_type": "markdown",
   "metadata": {},
   "source": [
    "The potentially more severe constraint, i.e. the biophysical one, is checked by subtracting the projected cumulative trend from the estimates of the overall available natural budget of silver."
   ]
  },
  {
   "cell_type": "code",
   "execution_count": 12,
   "metadata": {},
   "outputs": [
    {
     "ename": "ValueError",
     "evalue": "operands could not be broadcast together with shapes (100000,) (10000,) ",
     "output_type": "error",
     "traceback": [
      "\u001b[1;31m---------------------------------------------------------------------------\u001b[0m",
      "\u001b[1;31mValueError\u001b[0m                                Traceback (most recent call last)",
      "\u001b[1;32m<ipython-input-12-f2916b0df3c7>\u001b[0m in \u001b[0;36m<module>\u001b[1;34m()\u001b[0m\n\u001b[0;32m      5\u001b[0m \u001b[1;32mfor\u001b[0m \u001b[0mi\u001b[0m \u001b[1;32min\u001b[0m \u001b[0mrange\u001b[0m\u001b[1;33m(\u001b[0m\u001b[1;36m0\u001b[0m\u001b[1;33m,\u001b[0m\u001b[1;36m36\u001b[0m\u001b[1;33m)\u001b[0m\u001b[1;33m:\u001b[0m\u001b[1;33m\u001b[0m\u001b[0m\n\u001b[0;32m      6\u001b[0m     \u001b[0myearlySilver\u001b[0m \u001b[1;33m=\u001b[0m \u001b[1;33m(\u001b[0m\u001b[0mITRPV2016silverCell2015\u001b[0m \u001b[1;33m*\u001b[0m \u001b[0mnp\u001b[0m\u001b[1;33m.\u001b[0m\u001b[0mexp\u001b[0m\u001b[1;33m(\u001b[0m\u001b[1;33m-\u001b[0m\u001b[0msilverCellDistribution\u001b[0m\u001b[1;33m*\u001b[0m\u001b[0mi\u001b[0m\u001b[1;33m)\u001b[0m\u001b[1;33m/\u001b[0m\u001b[1;33m(\u001b[0m\u001b[0mPVCellEfficiency2015\u001b[0m \u001b[1;33m*\u001b[0m \u001b[0mnp\u001b[0m\u001b[1;33m.\u001b[0m\u001b[0mexp\u001b[0m\u001b[1;33m(\u001b[0m\u001b[0mPVCellEfficiencyIncreasePace\u001b[0m\u001b[1;33m*\u001b[0m\u001b[0mi\u001b[0m\u001b[1;33m)\u001b[0m\u001b[1;33m)\u001b[0m\u001b[1;33m)\u001b[0m\u001b[1;33m*\u001b[0m     \u001b[0mPVPC2015\u001b[0m \u001b[1;33m*\u001b[0m \u001b[0mnp\u001b[0m\u001b[1;33m.\u001b[0m\u001b[0mexp\u001b[0m\u001b[1;33m(\u001b[0m\u001b[0mPVPC2050IncreasePaceDistribution\u001b[0m\u001b[1;33m*\u001b[0m\u001b[0mi\u001b[0m\u001b[1;33m)\u001b[0m\u001b[1;33m/\u001b[0m\u001b[1;36m1000\u001b[0m \u001b[1;33m+\u001b[0m \u001b[0msilverOtherIndustrial2015\u001b[0m \u001b[1;33m*\u001b[0m \u001b[0mnp\u001b[0m\u001b[1;33m.\u001b[0m\u001b[0mexp\u001b[0m\u001b[1;33m(\u001b[0m\u001b[0mdistributionSilverOtherIndustrialPace\u001b[0m\u001b[1;33m*\u001b[0m\u001b[0mi\u001b[0m\u001b[1;33m)\u001b[0m \u001b[1;33m+\u001b[0m     \u001b[0msilverNonIndustrial2015\u001b[0m \u001b[1;33m*\u001b[0m \u001b[0mnp\u001b[0m\u001b[1;33m.\u001b[0m\u001b[0mexp\u001b[0m\u001b[1;33m(\u001b[0m\u001b[0mdistributionSilverNonIndustrialPace\u001b[0m\u001b[1;33m*\u001b[0m\u001b[0mi\u001b[0m\u001b[1;33m)\u001b[0m\u001b[1;33m\u001b[0m\u001b[0m\n\u001b[1;32m----> 7\u001b[1;33m     \u001b[0mCumulativeSilver\u001b[0m \u001b[1;33m=\u001b[0m \u001b[0myearlySilver\u001b[0m \u001b[1;33m+\u001b[0m \u001b[0mCumulativeSilver\u001b[0m\u001b[1;33m\u001b[0m\u001b[0m\n\u001b[0m\u001b[0;32m      8\u001b[0m     \u001b[0mDifference\u001b[0m \u001b[1;33m=\u001b[0m \u001b[0mnp\u001b[0m\u001b[1;33m.\u001b[0m\u001b[0msubtract\u001b[0m\u001b[1;33m(\u001b[0m\u001b[0mdistributionSilverReserveResource\u001b[0m\u001b[1;33m,\u001b[0m \u001b[0mCumulativeSilver\u001b[0m\u001b[1;33m)\u001b[0m\u001b[1;33m\u001b[0m\u001b[0m\n\u001b[0;32m      9\u001b[0m     \u001b[0mDifference_array\u001b[0m \u001b[1;33m=\u001b[0m \u001b[0mnp\u001b[0m\u001b[1;33m.\u001b[0m\u001b[0mappend\u001b[0m\u001b[1;33m(\u001b[0m\u001b[0mDifference_array\u001b[0m\u001b[1;33m,\u001b[0m \u001b[1;33m[\u001b[0m\u001b[0mDifference\u001b[0m\u001b[1;33m]\u001b[0m\u001b[1;33m,\u001b[0m \u001b[0maxis\u001b[0m\u001b[1;33m=\u001b[0m\u001b[1;36m0\u001b[0m\u001b[1;33m)\u001b[0m\u001b[1;33m\u001b[0m\u001b[0m\n",
      "\u001b[1;31mValueError\u001b[0m: operands could not be broadcast together with shapes (100000,) (10000,) "
     ]
    }
   ],
   "source": [
    "# Cumulative Delta (feasibility, biophysical constraint)\n",
    "\n",
    "Difference_array = np.empty((0, 10000))\n",
    "CumulativeSilver = np.zeros(10000)\n",
    "for i in range(0,36):\n",
    "    yearlySilver = (ITRPV2016silverCell2015 * np.exp(-silverCellDistribution*i)/(PVCellEfficiency2015 * np.exp(PVCellEfficiencyIncreasePace*i)))* \\\n",
    "    PVPC2015 * np.exp(PVPC2050IncreasePaceDistribution*i)/1000 + silverOtherIndustrial2015 * np.exp(distributionSilverOtherIndustrialPace*i) + \\\n",
    "    silverNonIndustrial2015 * np.exp(distributionSilverNonIndustrialPace*i)\n",
    "    CumulativeSilver = yearlySilver + CumulativeSilver\n",
    "    Difference = np.subtract(distributionSilverReserveResource, CumulativeSilver)\n",
    "    Difference_array = np.append(Difference_array, [Difference], axis=0)\n",
    "    DifferenceMean = np.mean(Difference_array, axis=1)"
   ]
  },
  {
   "cell_type": "markdown",
   "metadata": {},
   "source": [
    "The influence of the uncertainty of the four independent variables (pace of decrease in silver use for PV cells contact metallization, pace of increase in PV power capacity deployment, pace of decrease in other-industrial applications and pace of increase in non-industrial applications) on the output uncertainty is evaluated through a scatter plot. The variables presenting a trend are those whose uncertainty is affecting the output the most. Conversely, the variables presenting a complete random pattern of scatter dots are the least important ones."
   ]
  },
  {
   "cell_type": "code",
   "execution_count": 13,
   "metadata": {
    "collapsed": true
   },
   "outputs": [],
   "source": [
    "# Uncertainty analysis\n",
    "for i in range(len(relativeYear)):\n",
    "    yearlySilver = (ITRPV2016silverCell2015 * np.exp(-silverCellDistribution*i)/(PVCellEfficiency2015 * np.exp(PVCellEfficiencyIncreasePace*i)))* \\\n",
    "    PVPC2015 * np.exp(PVPC2050IncreasePaceDistribution*i)/1000 + silverOtherIndustrial2015 * np.exp(distributionSilverOtherIndustrialPace*i) + \\\n",
    "    silverNonIndustrial2015 * np.exp(distributionSilverNonIndustrialPace*i)\n",
    "    \n",
    "for i in range(len(relativeYear)):\n",
    "    yearlySilver = (ITRPV2016silverCell2015 * np.exp(-silverCellDistribution*i)/(PVCellEfficiency2015 * np.exp(PVCellEfficiencyIncreasePace*i)))* \\\n",
    "    PVPC2015 * np.exp(PVPC2050IncreasePaceDistribution*i)/1000 + silverOtherIndustrial2015 * np.exp(distributionSilverOtherIndustrialPace*i) + \\\n",
    "    silverNonIndustrial2015 * np.exp(distributionSilverNonIndustrialPace*i)\n",
    "     \n",
    "for i in range(len(relativeYear)):\n",
    "    yearlySilver = (ITRPV2016silverCell2015 * np.exp(-silverCellDistribution*i)/(PVCellEfficiency2015 * np.exp(PVCellEfficiencyIncreasePace*i)))* \\\n",
    "    PVPC2015 * np.exp(PVPC2050IncreasePaceDistribution*i)/1000 + silverOtherIndustrial2015 * np.exp(distributionSilverOtherIndustrialPace*i) + \\\n",
    "    silverNonIndustrial2015 * np.exp(distributionSilverNonIndustrialPace*i)    \n",
    "    \n",
    "for i in range(len(relativeYear)):\n",
    "    yearlySilver = (ITRPV2016silverCell2015 * np.exp(-silverCellDistribution*i)/(PVCellEfficiency2015 * np.exp(PVCellEfficiencyIncreasePace*i)))* \\\n",
    "    PVPC2015 * np.exp(PVPC2050IncreasePaceDistribution*i)/1000 + silverOtherIndustrial2015 * np.exp(distributionSilverOtherIndustrialPace*i) + \\\n",
    "    silverNonIndustrial2015 * np.exp(distributionSilverNonIndustrialPace*i)\n",
    "    "
   ]
  },
  {
   "cell_type": "markdown",
   "metadata": {},
   "source": [
    "The global sensitivity analysis allows for a precise quantification of the trend already illustrated by the scatter plot in qualitative terms. It is allowed to compute first order terms along with higher order ones that represent the variable influence on the uncertainty output through mutual interactions (e.g. the combined effect of the uncetainty in silver paste use and PV power capacity deployment)."
   ]
  },
  {
   "cell_type": "code",
   "execution_count": 14,
   "metadata": {
    "collapsed": true
   },
   "outputs": [],
   "source": [
    "# Sensitivity Analysis\n",
    "for i in range(len(relativeYear)):\n",
    "    yearlySilver = (ITRPV2016silverCell2015 * np.exp(-silverCellDistribution*i)/(PVCellEfficiency2015 * np.exp(PVCellEfficiencyIncreasePace*i)))* \\\n",
    "    PVPC2015 * np.exp(PVPC2050IncreasePaceDistribution*i)/1000 + silverOtherIndustrial2015 * np.exp(distributionSilverOtherIndustrialPace*i) + \\\n",
    "    silverNonIndustrial2015 * np.exp(distributionSilverNonIndustrialPace*i)\n",
    "    \n",
    "    yearlySilverB = (ITRPV2016silverCell2015 * np.exp(-silverCellDistributionB*i)/(PVCellEfficiency2015 * np.exp(PVCellEfficiencyIncreasePace*i)))* \\\n",
    "    PVPC2015 * np.exp(PVPC2050IncreasePaceDistributionB*i)/1000 + silverOtherIndustrial2015 * np.exp(distributionSilverOtherIndustrialPaceB*i) + \\\n",
    "    silverNonIndustrial2015 * np.exp(distributionSilverNonIndustrialPaceB*i)\n",
    "    \n",
    "    yearlySilverAB1 = (ITRPV2016silverCell2015 * np.exp(-silverCellDistributionB*i)/(PVCellEfficiency2015 * np.exp(PVCellEfficiencyIncreasePace*i)))* \\\n",
    "    PVPC2015 * np.exp(PVPC2050IncreasePaceDistribution*i)/1000 + silverOtherIndustrial2015 * np.exp(distributionSilverOtherIndustrialPace*i) + \\\n",
    "    silverNonIndustrial2015 * np.exp(distributionSilverNonIndustrialPace*i)\n",
    "    \n",
    "    yearlySilverAB2 = (ITRPV2016silverCell2015 * np.exp(-silverCellDistribution*i)/(PVCellEfficiency2015 * np.exp(PVCellEfficiencyIncreasePace*i)))* \\\n",
    "    PVPC2015 * np.exp(PVPC2050IncreasePaceDistributionB*i)/1000 + silverOtherIndustrial2015 * np.exp(distributionSilverOtherIndustrialPace*i) + \\\n",
    "    silverNonIndustrial2015 * np.exp(distributionSilverNonIndustrialPace*i)\n",
    "    \n",
    "    yearlySilverAB3 = (ITRPV2016silverCell2015 * np.exp(-silverCellDistribution*i)/(PVCellEfficiency2015 * np.exp(PVCellEfficiencyIncreasePace*i)))* \\\n",
    "    PVPC2015 * np.exp(PVPC2050IncreasePaceDistribution*i)/1000 + silverOtherIndustrial2015 * np.exp(distributionSilverOtherIndustrialPaceB*i) + \\\n",
    "    silverNonIndustrial2015 * np.exp(distributionSilverNonIndustrialPace*i)\n",
    "    \n",
    "    yearlySilverAB4 = (ITRPV2016silverCell2015 * np.exp(-silverCellDistribution*i)/(PVCellEfficiency2015 * np.exp(PVCellEfficiencyIncreasePace*i)))* \\\n",
    "    PVPC2015 * np.exp(PVPC2050IncreasePaceDistribution*i)/1000 + silverOtherIndustrial2015 * np.exp(distributionSilverOtherIndustrialPace*i) + \\\n",
    "    silverNonIndustrial2015 * np.exp(distributionSilverNonIndustrialPaceB*i)\n",
    "    \n",
    "    yearlySilverBA1 = (ITRPV2016silverCell2015 * np.exp(-silverCellDistribution*i)/(PVCellEfficiency2015 * np.exp(PVCellEfficiencyIncreasePace*i)))* \\\n",
    "    PVPC2015 * np.exp(PVPC2050IncreasePaceDistributionB*i)/1000 + silverOtherIndustrial2015 * np.exp(distributionSilverOtherIndustrialPaceB*i) + \\\n",
    "    silverNonIndustrial2015 * np.exp(distributionSilverNonIndustrialPaceB*i)\n",
    "    \n",
    "    yearlySilverBA2 = (ITRPV2016silverCell2015 * np.exp(-silverCellDistributionB*i)/(PVCellEfficiency2015 * np.exp(PVCellEfficiencyIncreasePace*i)))* \\\n",
    "    PVPC2015 * np.exp(PVPC2050IncreasePaceDistribution*i)/1000 + silverOtherIndustrial2015 * np.exp(distributionSilverOtherIndustrialPaceB*i) + \\\n",
    "    silverNonIndustrial2015 * np.exp(distributionSilverNonIndustrialPaceB*i)\n",
    "   \n",
    "    yearlySilverBA3 = (ITRPV2016silverCell2015 * np.exp(-silverCellDistributionB*i)/(PVCellEfficiency2015 * np.exp(PVCellEfficiencyIncreasePace*i)))* \\\n",
    "    PVPC2015 * np.exp(PVPC2050IncreasePaceDistributionB*i)/1000 + silverOtherIndustrial2015 * np.exp(distributionSilverOtherIndustrialPace*i) + \\\n",
    "    silverNonIndustrial2015 * np.exp(distributionSilverNonIndustrialPaceB*i)\n",
    "    \n",
    "    yearlySilverBA4 = (ITRPV2016silverCell2015 * np.exp(-silverCellDistributionB*i)/(PVCellEfficiency2015 * np.exp(PVCellEfficiencyIncreasePace*i)))* \\\n",
    "    PVPC2015 * np.exp(PVPC2050IncreasePaceDistributionB*i)/1000 + silverOtherIndustrial2015 * np.exp(distributionSilverOtherIndustrialPaceB*i) + \\\n",
    "    silverNonIndustrial2015 * np.exp(distributionSilverNonIndustrialPace*i)\n",
    "    \n",
    "    EyearlySilver=np.average(yearlySilver)\n",
    "    E2yearlySilver=np.square(np.average(yearlySilver))\n",
    "    EyearlySilver2=np.average(np.square(yearlySilver))\n",
    "    Variance = EyearlySilver2 - E2yearlySilver\n",
    "    \n",
    "    VsilverCell = np.average(yearlySilver*yearlySilverBA1) - E2yearlySilver\n",
    "    SsilverCell = VsilverCell/Variance\n",
    "    \n",
    "    VTsilverCell = Variance - np.average(yearlySilver*yearlySilverAB1) + E2yearlySilver\n",
    "    STsilverCell = VTsilverCell/Variance\n",
    "    \n",
    "    SsilverCell_PVPC2050 = STsilverCell-SsilverCell\n",
    "    \n",
    "    VsilverPC2050 = np.average(yearlySilver*yearlySilverBA2) - E2yearlySilver\n",
    "    SsilverPC2050 = VsilverPC2050/Variance\n",
    "    \n",
    "    VTPC2050 = Variance - np.average(yearlySilver*yearlySilverAB2) + E2yearlySilver\n",
    "    STPC2050 = VTPC2050/Variance\n",
    "    \n",
    "    SPC2050_silverCell = STPC2050 - SsilverPC2050\n",
    "    \n",
    "    VsilverOtherIndustrial = np.average(yearlySilver*yearlySilverBA3) - E2yearlySilver\n",
    "    SsilverOtherIndustrial = VsilverOtherIndustrial/Variance\n",
    "    \n",
    "    VsilverNonIndustrial = np.average(yearlySilver*yearlySilverBA4) - E2yearlySilver\n",
    "    SsilverNonIndustrial = VsilverNonIndustrial/Variance\n",
    "    \n",
    "    SfirstOrder = SsilverCell + SsilverPC2050 + SsilverOtherIndustrial + SsilverNonIndustrial"
   ]
  },
  {
   "cell_type": "markdown",
   "metadata": {},
   "source": [
    "The relevant pieces of information can be evaluated in a graphical form through the use of matplotlib"
   ]
  },
  {
   "cell_type": "code",
   "execution_count": null,
   "metadata": {
    "collapsed": true
   },
   "outputs": [],
   "source": [
    "# Generation of the cumulative silver output (1,000 metric tonnes)\n",
    "\n",
    "CumulativeSilver_array = np.empty((0, 10000))\n",
    "CumulativeSilver = np.zeros(10000)\n",
    "for i in range(0,36):\n",
    "    yearlySilver = (ITRPV2016silverCell2015 * np.exp(-silverCellDistribution*i)/(PVCellEfficiency2015 * np.exp(PVCellEfficiencyIncreasePace*i)))* \\\n",
    "    PVPC2015 * np.exp(PVPC2050IncreasePaceDistribution*i)/1000 + silverOtherIndustrial2015 * np.exp(distributionSilverOtherIndustrialPace*i) + \\\n",
    "    silverNonIndustrial2015 * np.exp(distributionSilverNonIndustrialPace*i)\n",
    "    CumulativeSilver = yearlySilver + CumulativeSilver\n",
    "    CumulativeSilver_array = np.append(CumulativeSilver_array, [CumulativeSilver], axis=0)\n",
    "    CumulativeMean = np.mean(CumulativeSilver_array, axis=1)\n",
    "    plt.scatter([i+2015], CumulativeMean[i], c = 'b', label = 'Cumulative Silver demand mean' if i == 0 else \"\")\n",
    "    plt.plot(len(CumulativeSilver) * [i+2015], CumulativeSilver_array[i], c = 'r', label = 'Cumulative Silver demand' if i == 0 else \"\")\n",
    "plt.legend()\n",
    "plt.show()\n",
    "\n",
    "# Derivative Yearly Silver Demand\n",
    "\n",
    "for i in range(0,36):\n",
    "    derivativeYearlySilver = (ITRPV2016silverCell2015 * np.exp(-silverCellDistribution*i)/(PVCellEfficiency2015 * np.exp(PVCellEfficiencyIncreasePace*i)))* \\\n",
    "    PVPC2015 * np.exp(PVPC2050IncreasePaceDistribution*i)*(PVPC2050IncreasePaceDistribution - silverCellDistribution - PVCellEfficiencyIncreasePace)/1000 + silverOtherIndustrial2015 * distributionSilverOtherIndustrialPace * np.exp(distributionSilverOtherIndustrialPace*i) + \\\n",
    "    silverNonIndustrial2015 * distributionSilverNonIndustrialPace * np.exp(distributionSilverNonIndustrialPace*i)\n",
    "    plt.plot(len(derivativeYearlySilver) * [i+2015], derivativeYearlySilver, c = 'g', label = 'derivative Yearly Silver demand' if i == 0 else \"\")\n",
    "plt.legend()\n",
    "plt.show()\n",
    "\n",
    "# Yearly Delta (viability, technological constraint)\n",
    "\n",
    "for i in range(0,36):\n",
    "    yearlySilver = (ITRPV2016silverCell2015 * np.exp(-silverCellDistribution*i)/(PVCellEfficiency2015 * np.exp(PVCellEfficiencyIncreasePace*i)))* \\\n",
    "    PVPC2015 * np.exp(PVPC2050IncreasePaceDistribution*i)/1000 + silverOtherIndustrial2015 * np.exp(distributionSilverOtherIndustrialPace*i) + \\\n",
    "    silverNonIndustrial2015 * np.exp(distributionSilverNonIndustrialPace*i)\n",
    "    silverExtraction = 27.6 * np.exp(0.226*i)\n",
    "    silverDelta = np.subtract(silverExtraction, yearlySilver)\n",
    "    plt.scatter([i+2015], silverDelta[i], c = 'p')\n",
    "plt.show()\n",
    "\n",
    "# Cumulative Delta (feasibility, biophysical constraint)\n",
    "\n",
    "Difference_array = np.empty((0, 10000))\n",
    "CumulativeSilver = np.zeros(10000)\n",
    "for i in range(0,36):\n",
    "    yearlySilver = (ITRPV2016silverCell2015 * np.exp(-silverCellDistribution*i)/(PVCellEfficiency2015 * np.exp(PVCellEfficiencyIncreasePace*i)))* \\\n",
    "    PVPC2015 * np.exp(PVPC2050IncreasePaceDistribution*i)/1000 + silverOtherIndustrial2015 * np.exp(distributionSilverOtherIndustrialPace*i) + \\\n",
    "    silverNonIndustrial2015 * np.exp(distributionSilverNonIndustrialPace*i)\n",
    "    CumulativeSilver = yearlySilver + CumulativeSilver\n",
    "    Difference = np.subtract(distributionSilverReserveResource, CumulativeSilver)\n",
    "    Difference_array = np.append(Difference_array, [Difference], axis=0)\n",
    "    DifferenceMean = np.mean(Difference_array, axis=1)\n",
    "    plt.scatter([i+2015], DifferenceMean[i], c = 'y', label = 'Difference mean' if i == 0 else \"\")\n",
    "    plt.plot(len(Difference) * [i+2015], Difference_array[i], c = 'b', label = 'Difference' if i == 0 else \"\")\n",
    "plt.legend()\n",
    "plt.show()\n",
    "\n",
    "# Uncertainty analysis\n",
    "for i in range(len(relativeYear)):\n",
    "    yearlySilver = (ITRPV2016silverCell2015 * np.exp(-silverCellDistribution*i)/(PVCellEfficiency2015 * np.exp(PVCellEfficiencyIncreasePace*i)))* \\\n",
    "    PVPC2015 * np.exp(PVPC2050IncreasePaceDistribution*i)/1000 + silverOtherIndustrial2015 * np.exp(distributionSilverOtherIndustrialPace*i) + \\\n",
    "    silverNonIndustrial2015 * np.exp(distributionSilverNonIndustrialPace*i)\n",
    "    \n",
    "    plt.scatter(silverCellDistribution,yearlySilver, s=2, label = 'silverCellDistribution')\n",
    "    plt.legend()\n",
    "    plt.plot(np.unique(silverCellDistribution), np.poly1d(np.polyfit(silverCellDistribution, yearlySilver, 1))(np.unique(silverCellDistribution)), color='r')\n",
    "    plt.show()\n",
    "    \n",
    "for i in range(len(relativeYear)):\n",
    "    yearlySilver = (ITRPV2016silverCell2015 * np.exp(-silverCellDistribution*i)/(PVCellEfficiency2015 * np.exp(PVCellEfficiencyIncreasePace*i)))* \\\n",
    "    PVPC2015 * np.exp(PVPC2050IncreasePaceDistribution*i)/1000 + silverOtherIndustrial2015 * np.exp(distributionSilverOtherIndustrialPace*i) + \\\n",
    "    silverNonIndustrial2015 * np.exp(distributionSilverNonIndustrialPace*i)\n",
    "    \n",
    "    plt.scatter(PVPC2050IncreasePaceDistribution,yearlySilver, s=2, label = 'PVPC2050IncreasePaceDistribution')\n",
    "    plt.legend()\n",
    "    plt.plot(np.unique(PVPC2050IncreasePaceDistribution), np.poly1d(np.polyfit(PVPC2050IncreasePaceDistribution, yearlySilver, 1))(np.unique(PVPC2050IncreasePaceDistribution)), color='g')\n",
    "    plt.show()\n",
    "    \n",
    "for i in range(len(relativeYear)):\n",
    "    yearlySilver = (ITRPV2016silverCell2015 * np.exp(-silverCellDistribution*i)/(PVCellEfficiency2015 * np.exp(PVCellEfficiencyIncreasePace*i)))* \\\n",
    "    PVPC2015 * np.exp(PVPC2050IncreasePaceDistribution*i)/1000 + silverOtherIndustrial2015 * np.exp(distributionSilverOtherIndustrialPace*i) + \\\n",
    "    silverNonIndustrial2015 * np.exp(distributionSilverNonIndustrialPace*i)    \n",
    "    \n",
    "    plt.scatter(distributionSilverOtherIndustrialPace,yearlySilver, s=2, label = 'distributionSilverOtherIndustrialPace')\n",
    "    plt.legend()\n",
    "    plt.plot(np.unique(distributionSilverOtherIndustrialPace), np.poly1d(np.polyfit(distributionSilverOtherIndustrialPace, yearlySilver, 1))(np.unique(distributionSilverOtherIndustrialPace)), color='k')\n",
    "    plt.show()\n",
    " \n",
    "for i in range(len(relativeYear)):\n",
    "    yearlySilver = (ITRPV2016silverCell2015 * np.exp(-silverCellDistribution*i)/(PVCellEfficiency2015 * np.exp(PVCellEfficiencyIncreasePace*i)))* \\\n",
    "    PVPC2015 * np.exp(PVPC2050IncreasePaceDistribution*i)/1000 + silverOtherIndustrial2015 * np.exp(distributionSilverOtherIndustrialPace*i) + \\\n",
    "    silverNonIndustrial2015 * np.exp(distributionSilverNonIndustrialPace*i)\n",
    "    \n",
    "    plt.scatter(distributionSilverNonIndustrialPace,yearlySilver, s=2, label = 'distributionSilverNonIndustrialPace')\n",
    "    plt.legend()\n",
    "    plt.plot(np.unique(distributionSilverNonIndustrialPace), np.poly1d(np.polyfit(distributionSilverNonIndustrialPace, yearlySilver, 1))(np.unique(distributionSilverNonIndustrialPace)), color='w')\n",
    "    plt.show()\n",
    "    \n",
    "# Sensitivity Analysis\n",
    "for i in range(len(relativeYear)):\n",
    "    yearlySilver = (ITRPV2016silverCell2015 * np.exp(-silverCellDistribution*i)/(PVCellEfficiency2015 * np.exp(PVCellEfficiencyIncreasePace*i)))* \\\n",
    "    PVPC2015 * np.exp(PVPC2050IncreasePaceDistribution*i)/1000 + silverOtherIndustrial2015 * np.exp(distributionSilverOtherIndustrialPace*i) + \\\n",
    "    silverNonIndustrial2015 * np.exp(distributionSilverNonIndustrialPace*i)\n",
    "    \n",
    "    yearlySilverB = (ITRPV2016silverCell2015 * np.exp(-silverCellDistributionB*i)/(PVCellEfficiency2015 * np.exp(PVCellEfficiencyIncreasePace*i)))* \\\n",
    "    PVPC2015 * np.exp(PVPC2050IncreasePaceDistributionB*i)/1000 + silverOtherIndustrial2015 * np.exp(distributionSilverOtherIndustrialPaceB*i) + \\\n",
    "    silverNonIndustrial2015 * np.exp(distributionSilverNonIndustrialPaceB*i)\n",
    "    \n",
    "    yearlySilverAB1 = (ITRPV2016silverCell2015 * np.exp(-silverCellDistributionB*i)/(PVCellEfficiency2015 * np.exp(PVCellEfficiencyIncreasePace*i)))* \\\n",
    "    PVPC2015 * np.exp(PVPC2050IncreasePaceDistribution*i)/1000 + silverOtherIndustrial2015 * np.exp(distributionSilverOtherIndustrialPace*i) + \\\n",
    "    silverNonIndustrial2015 * np.exp(distributionSilverNonIndustrialPace*i)\n",
    "    \n",
    "    yearlySilverAB2 = (ITRPV2016silverCell2015 * np.exp(-silverCellDistribution*i)/(PVCellEfficiency2015 * np.exp(PVCellEfficiencyIncreasePace*i)))* \\\n",
    "    PVPC2015 * np.exp(PVPC2050IncreasePaceDistributionB*i)/1000 + silverOtherIndustrial2015 * np.exp(distributionSilverOtherIndustrialPace*i) + \\\n",
    "    silverNonIndustrial2015 * np.exp(distributionSilverNonIndustrialPace*i)\n",
    "    \n",
    "    yearlySilverAB3 = (ITRPV2016silverCell2015 * np.exp(-silverCellDistribution*i)/(PVCellEfficiency2015 * np.exp(PVCellEfficiencyIncreasePace*i)))* \\\n",
    "    PVPC2015 * np.exp(PVPC2050IncreasePaceDistribution*i)/1000 + silverOtherIndustrial2015 * np.exp(distributionSilverOtherIndustrialPaceB*i) + \\\n",
    "    silverNonIndustrial2015 * np.exp(distributionSilverNonIndustrialPace*i)\n",
    "    \n",
    "    yearlySilverAB4 = (ITRPV2016silverCell2015 * np.exp(-silverCellDistribution*i)/(PVCellEfficiency2015 * np.exp(PVCellEfficiencyIncreasePace*i)))* \\\n",
    "    PVPC2015 * np.exp(PVPC2050IncreasePaceDistribution*i)/1000 + silverOtherIndustrial2015 * np.exp(distributionSilverOtherIndustrialPace*i) + \\\n",
    "    silverNonIndustrial2015 * np.exp(distributionSilverNonIndustrialPaceB*i)\n",
    "    \n",
    "    yearlySilverBA1 = (ITRPV2016silverCell2015 * np.exp(-silverCellDistribution*i)/(PVCellEfficiency2015 * np.exp(PVCellEfficiencyIncreasePace*i)))* \\\n",
    "    PVPC2015 * np.exp(PVPC2050IncreasePaceDistributionB*i)/1000 + silverOtherIndustrial2015 * np.exp(distributionSilverOtherIndustrialPaceB*i) + \\\n",
    "    silverNonIndustrial2015 * np.exp(distributionSilverNonIndustrialPaceB*i)\n",
    "    \n",
    "    yearlySilverBA2 = (ITRPV2016silverCell2015 * np.exp(-silverCellDistributionB*i)/(PVCellEfficiency2015 * np.exp(PVCellEfficiencyIncreasePace*i)))* \\\n",
    "    PVPC2015 * np.exp(PVPC2050IncreasePaceDistribution*i)/1000 + silverOtherIndustrial2015 * np.exp(distributionSilverOtherIndustrialPaceB*i) + \\\n",
    "    silverNonIndustrial2015 * np.exp(distributionSilverNonIndustrialPaceB*i)\n",
    "   \n",
    "    yearlySilverBA3 = (ITRPV2016silverCell2015 * np.exp(-silverCellDistributionB*i)/(PVCellEfficiency2015 * np.exp(PVCellEfficiencyIncreasePace*i)))* \\\n",
    "    PVPC2015 * np.exp(PVPC2050IncreasePaceDistributionB*i)/1000 + silverOtherIndustrial2015 * np.exp(distributionSilverOtherIndustrialPace*i) + \\\n",
    "    silverNonIndustrial2015 * np.exp(distributionSilverNonIndustrialPaceB*i)\n",
    "    \n",
    "    yearlySilverBA4 = (ITRPV2016silverCell2015 * np.exp(-silverCellDistributionB*i)/(PVCellEfficiency2015 * np.exp(PVCellEfficiencyIncreasePace*i)))* \\\n",
    "    PVPC2015 * np.exp(PVPC2050IncreasePaceDistributionB*i)/1000 + silverOtherIndustrial2015 * np.exp(distributionSilverOtherIndustrialPaceB*i) + \\\n",
    "    silverNonIndustrial2015 * np.exp(distributionSilverNonIndustrialPace*i)\n",
    "    \n",
    "    EyearlySilver=np.average(yearlySilver)\n",
    "    E2yearlySilver=np.square(np.average(yearlySilver))\n",
    "    EyearlySilver2=np.average(np.square(yearlySilver))\n",
    "    Variance = EyearlySilver2 - E2yearlySilver\n",
    "    \n",
    "    VsilverCell = np.average(yearlySilver*yearlySilverBA1) - E2yearlySilver\n",
    "    SsilverCell = VsilverCell/Variance\n",
    "    \n",
    "    VTsilverCell = Variance - np.average(yearlySilver*yearlySilverAB1) + E2yearlySilver\n",
    "    STsilverCell = VTsilverCell/Variance\n",
    "    \n",
    "    SsilverCell_PVPC2050 = STsilverCell-SsilverCell\n",
    "    \n",
    "    VsilverPC2050 = np.average(yearlySilver*yearlySilverBA2) - E2yearlySilver\n",
    "    SsilverPC2050 = VsilverPC2050/Variance\n",
    "    \n",
    "    VTPC2050 = Variance - np.average(yearlySilver*yearlySilverAB2) + E2yearlySilver\n",
    "    STPC2050 = VTPC2050/Variance\n",
    "    \n",
    "    SPC2050_silverCell = STPC2050 - SsilverPC2050\n",
    "    \n",
    "    VsilverOtherIndustrial = np.average(yearlySilver*yearlySilverBA3) - E2yearlySilver\n",
    "    SsilverOtherIndustrial = VsilverOtherIndustrial/Variance\n",
    "    \n",
    "    VsilverNonIndustrial = np.average(yearlySilver*yearlySilverBA4) - E2yearlySilver\n",
    "    SsilverNonIndustrial = VsilverNonIndustrial/Variance\n",
    "    \n",
    "    SfirstOrder = SsilverCell + SsilverPC2050 + SsilverOtherIndustrial + SsilverNonIndustrial\n",
    "    \n",
    "    plt.plot(i+2015, SsilverCell, marker = 'o', c = 'r', label = 'SsilverCell' if i == 0 else \"\")\n",
    "    plt.plot(i+2015, SsilverPC2050, marker = 'v', c = 'b', label = 'SsilverPC2050' if i == 0 else \"\")\n",
    "    plt.plot(i+2015, SsilverOtherIndustrial, marker = 'p', c = 'g', label = 'SsilverOtherIndustrial' if i == 0 else \"\")\n",
    "    plt.plot(i+2015, SsilverNonIndustrial, marker = 'h', c = 'k', label = 'SsilverNonIndustrial' if i == 0 else \"\")\n",
    "    plt.plot(i+2015, SfirstOrder, marker = 's', c = 'c', label = 'Ssilverfirstorder' if i == 0 else \"\")\n",
    "    plt.plot(i+2015, STsilverCell, marker = '^', c = 'm', label = 'STsilverCell_PVPC2050' if i == 0 else \"\")\n",
    "    plt.ylim(-0.1,1.2)\n",
    "    plt.xlim(2016,2051)\n",
    "    plt.legend(loc=7,prop={'size':16})\n",
    "plt.show()"
   ]
  }
 ],
 "metadata": {
  "kernelspec": {
   "display_name": "Python 3",
   "language": "python",
   "name": "python3"
  },
  "language_info": {
   "codemirror_mode": {
    "name": "ipython",
    "version": 3
   },
   "file_extension": ".py",
   "mimetype": "text/x-python",
   "name": "python",
   "nbconvert_exporter": "python",
   "pygments_lexer": "ipython3",
   "version": "3.6.1"
  }
 },
 "nbformat": 4,
 "nbformat_minor": 2
}
