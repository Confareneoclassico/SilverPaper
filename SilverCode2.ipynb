{
 "cells": [
  {
   "cell_type": "markdown",
   "metadata": {},
   "source": [
    "# Silver as a techno/biophysical constraint for a large-scale development of Solar Photovoltaics? Current trends and data quality\n"
   ]
  },
  {
   "cell_type": "markdown",
   "metadata": {},
   "source": [
    "We present in this notebook the code and the rationale behind the example on silver developed"
   ]
  },
  {
   "cell_type": "code",
   "execution_count": 2,
   "metadata": {
    "collapsed": true
   },
   "outputs": [],
   "source": [
    "import numpy as np\n",
    "import chaospy as cp\n",
    "import matplotlib.pyplot as plt"
   ]
  },
  {
   "cell_type": "markdown",
   "metadata": {},
   "source": [
    "The distributions of the four quantities whose trends to the year 2050 are modelled are firstly defined. 10,000 (100,000) quasi-random Sobol distributions are supposed on the basis of the technical coefficients available or provided. i) As regards silver-paste use, a distribution is generated on the basis of the suggestions provided by the pool of experts. A normal distribution is supposed."
   ]
  },
  {
   "cell_type": "code",
   "execution_count": 3,
   "metadata": {
    "collapsed": true
   },
   "outputs": [],
   "source": [
    "# Current use of silver paste (mg/cell) - year 2015\n",
    "\n",
    "ITRPV2016silverCell2015 = 110\n",
    "ITRPVsilverCell2026 = 40 \n",
    "ITRPV2016decreasePace= - 1/(2026-2015) * np.log(ITRPVsilverCell2026/ITRPV2016silverCell2015)\n",
    "\n",
    "silverCell2050a= 110 * 0.01\n",
    "silverCell2050aDecreasePace= - 1/(2050-2015) * np.log(silverCell2050a/ITRPV2016silverCell2015)\n",
    "\n",
    "silverCell2050b = 10\n",
    "silverCell2050bDecreasePace= - 1/(2050-2015) * np.log(silverCell2050b/ITRPV2016silverCell2015)\n",
    "\n",
    "silverCell2050c = 20\n",
    "silverCell2050cDecreasePace= - 1/(2050-2015) * np.log(silverCell2050c/ITRPV2016silverCell2015)\n",
    "\n",
    "silverCell2050dDecreasePace = (silverCell2050cDecreasePace + silverCell2050bDecreasePace)/2\n",
    "\n",
    "silverCell2050eDecreasePace = 0.05\n",
    "\n",
    "silverCell2050DecreasePace = [ITRPV2016decreasePace, ITRPV2016decreasePace, silverCell2050aDecreasePace, silverCell2050aDecreasePace, silverCell2050bDecreasePace,silverCell2050cDecreasePace,silverCell2050dDecreasePace, silverCell2050eDecreasePace]\n",
    "\n",
    "mu = np.mean(silverCell2050DecreasePace)\n",
    "sigma = np.std(silverCell2050DecreasePace)\n",
    "lower= 0\n",
    "\n",
    "distribution = cp.truncnorm(0, np.inf, mu, sigma)\n",
    "silverCellDistribution = distribution.sample(100000, rule=\"S\")\n",
    "np.random.shuffle(silverCellDistribution)\n",
    "\n",
    "distributionB = cp.truncnorm(0, np.inf, mu, sigma)\n",
    "silverCellDistributionB = distributionB.sample(100000, rule=\"S\")\n",
    "np.random.shuffle(silverCellDistributionB)"
   ]
  },
  {
   "cell_type": "markdown",
   "metadata": {},
   "source": [
    "The trend of solar-PV efficiency increased is acknowledged up to the year 2050. A constant pace is also supposed in this case"
   ]
  },
  {
   "cell_type": "code",
   "execution_count": 4,
   "metadata": {
    "collapsed": true
   },
   "outputs": [],
   "source": [
    "# PV Cell Efficiency growth up to the year 2050 (W/cell)\n",
    "\n",
    "PVCellEfficiency2015 = 4.27\n",
    "\n",
    "PVCellEfficiency2050 = 6.1\n",
    "\n",
    "PVCellEfficiencyIncreasePace = 0.10"
   ]
  },
  {
   "cell_type": "markdown",
   "metadata": {},
   "source": [
    "ii) A similar exercise is repeated for the PV power capacity installed up to the year 2050 (on the basis of energy-scenario experts' suggestions received"
   ]
  },
  {
   "cell_type": "code",
   "execution_count": 5,
   "metadata": {
    "collapsed": true
   },
   "outputs": [],
   "source": [
    "# Current expansion of PV power capacity (GW) - year 2015\n",
    "\n",
    "PVPC2015 = 45\n",
    "CrystallineSiliconShare = 0.9\n",
    "IEA2050 = 4670\n",
    "IEA2050_CrystallineSiliconShare = IEA2050 * CrystallineSiliconShare\n",
    "Greenpeace2050 = 9295\n",
    "Greenpeace2050_CrystallineSiliconShare = Greenpeace2050 * CrystallineSiliconShare\n",
    "Fraunhofer2050 = 30700\n",
    "Fraunhofer2050_CrystallineSiliconShare = Fraunhofer2050 * CrystallineSiliconShare\n",
    "\n",
    "PVPC2050IncreasePace = [0.046, 0.122, 0.077]\n",
    "\n",
    "avgPVPC = np.mean(PVPC2050IncreasePace)\n",
    "stdPVPC = np.std(PVPC2050IncreasePace)\n",
    "lower= 0\n",
    "\n",
    "distribution1 = cp.truncnorm(0, np.inf, avgPVPC, stdPVPC)\n",
    "PVPC2050IncreasePaceDistribution = distribution1.sample(100000, rule=\"S\")\n",
    "np.random.shuffle(PVPC2050IncreasePaceDistribution)\n",
    "\n",
    "distribution1B = cp.truncnorm(0, np.inf, avgPVPC, stdPVPC)\n",
    "PVPC2050IncreasePaceDistributionB = distribution1B.sample(100000, rule=\"S\")\n",
    "np.random.shuffle(PVPC2050IncreasePaceDistributionB)"
   ]
  },
  {
   "cell_type": "markdown",
   "metadata": {},
   "source": [
    "Finally, the reduction in other industrial uses and the increment in non-industrial uses are acknowledged through the generation of uniform distributions."
   ]
  },
  {
   "cell_type": "code",
   "execution_count": 6,
   "metadata": {
    "collapsed": true
   },
   "outputs": [],
   "source": [
    "# Reduction in other industrial applications\n",
    "\n",
    "silverOtherIndustrial2015 = 15.9\n",
    "\n",
    "distributionSilverOtherIndustrial = cp.Uniform(-0.05, -0.03)\n",
    "distributionSilverOtherIndustrialPace = distributionSilverOtherIndustrial.sample(100000, rule=\"S\")\n",
    "np.random.shuffle(distributionSilverOtherIndustrialPace)\n",
    "\n",
    "distributionSilverOtherIndustrialB = cp.Uniform(-0.05, -0.03)\n",
    "distributionSilverOtherIndustrialPaceB = distributionSilverOtherIndustrialB.sample(100000, rule=\"S\")\n",
    "np.random.shuffle(distributionSilverOtherIndustrialPaceB)\n",
    "\n",
    "# Increase in non-industrial applications\n",
    "\n",
    "distributionSilverNonIndustrial = cp.Uniform(0.01, 0.03)\n",
    "distributionSilverNonIndustrialPace = distributionSilverNonIndustrial.sample(100000, rule=\"S\")\n",
    "np.random.shuffle(distributionSilverNonIndustrialPace)\n",
    "\n",
    "distributionSilverNonIndustrialB = cp.Uniform(0.01, 0.03)\n",
    "distributionSilverNonIndustrialPaceB = distributionSilverNonIndustrialB.sample(100000, rule=\"S\")\n",
    "np.random.shuffle(distributionSilverNonIndustrialPaceB)\n",
    "\n",
    "silverNonIndustrial2015 = 18.1\n",
    "\n",
    "year = np.arange(2015,2051)\n",
    "yearBase = 2015\n",
    "relativeYear = np.subtract(year,yearBase)"
   ]
  },
  {
   "cell_type": "markdown",
   "metadata": {},
   "source": [
    "In order to appreciate whether we are going to clash against any biophysical constraint, a distribution of the natural available silver is supposed within the range of estimated ultimate recoverable resources (USGS estimate, the most conservative) and the overall resources ideally available."
   ]
  },
  {
   "cell_type": "code",
   "execution_count": 7,
   "metadata": {
    "collapsed": true
   },
   "outputs": [],
   "source": [
    "# Resources and reserves\n",
    "\n",
    "distributionSilverRR = cp.Uniform(570, 4000)\n",
    "distributionSilverReserveResource = distributionSilverRR.sample(10000, rule=\"S\")\n",
    "np.random.shuffle(distributionSilverReserveResource)\n",
    "SilverRRMean = np.mean(distributionSilverReserveResource)"
   ]
  },
  {
   "cell_type": "markdown",
   "metadata": {},
   "source": [
    "The distributions of the yearly and cumulative trends in silver demand are eventually generated (demand side)"
   ]
  },
  {
   "cell_type": "code",
   "execution_count": 9,
   "metadata": {},
   "outputs": [],
   "source": [
    "# Generation of the yearly silver output (1,000 metric tonnes)\n",
    "\n",
    "for i in range(0,35):\n",
    "    PVDemand = (ITRPV2016silverCell2015 * np.exp(-silverCellDistribution*i)/(PVCellEfficiency2015 * np.exp(PVCellEfficiencyIncreasePace*i)))* \\\n",
    "    PVPC2015 * np.exp(PVPC2050IncreasePaceDistribution*i)/1000\n",
    "\n",
    "# Generation of the cumulative silver output (1,000 metric tonnes)\n",
    "\n",
    "CumulativeSilver_array = np.empty((0, 10000))\n",
    "CumulativeSilver = np.zeros(10000)\n",
    "for i in range(0,36):\n",
    "    yearlySilver = (ITRPV2016silverCell2015 * np.exp(-silverCellDistribution*i)/(PVCellEfficiency2015 * np.exp(PVCellEfficiencyIncreasePace*i)))* \\\n",
    "    PVPC2015 * np.exp(PVPC2050IncreasePaceDistribution*i)/1000 + silverOtherIndustrial2015 * np.exp(distributionSilverOtherIndustrialPace*i) + \\\n",
    "    silverNonIndustrial2015 * np.exp(distributionSilverNonIndustrialPace*i)\n",
    "    CumulativeSilver = yearlySilver + CumulativeSilver\n",
    "    CumulativeSilver_array = np.append(CumulativeSilver_array, [CumulativeSilver], axis=0)\n",
    "    CumulativeMean = np.mean(CumulativeSilver_array, axis=1)"
   ]
  },
  {
   "cell_type": "code",
   "execution_count": null,
   "metadata": {
    "collapsed": true
   },
   "outputs": [],
   "source": []
  }
 ],
 "metadata": {
  "kernelspec": {
   "display_name": "Python 3",
   "language": "python",
   "name": "python3"
  },
  "language_info": {
   "codemirror_mode": {
    "name": "ipython",
    "version": 3
   },
   "file_extension": ".py",
   "mimetype": "text/x-python",
   "name": "python",
   "nbconvert_exporter": "python",
   "pygments_lexer": "ipython3",
   "version": "3.6.1"
  }
 },
 "nbformat": 4,
 "nbformat_minor": 2
}
