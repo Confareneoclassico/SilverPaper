{
 "cells": [
  {
   "cell_type": "markdown",
   "metadata": {},
   "source": [
    "<!-- dom:TITLE: Silver as a techno/biophysical constraint for a large-scale development of Solar Photovoltaics? Current trends and data quality -->\n",
    "# Silver as a techno/biophysical constraint for a large-scale development of Solar Photovoltaics? Current trends and data quality"
   ]
  },
  {
   "cell_type": "code",
   "execution_count": 1,
   "metadata": {
    "collapsed": true
   },
   "outputs": [],
   "source": [
    "import numpy as np\n",
    "import chaospy as cp\n",
    "import matplotlib.pyplot as plt\n",
    ]
   }
