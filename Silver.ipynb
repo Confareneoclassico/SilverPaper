{
 "cells": [
  {
   "cell_type": "markdown",
   "metadata": {},
   "source": [
    "# Silver as a techno/biophysical constraint for a large-scale development of Solar Photovoltaics? Current trends and data quality\n",
    "\n",
    "We present here the code underpinning the assessment of the silver constraint along with the rationale behind the steps undertaken"
   ]
  },
  {
   "cell_type": "markdown",
   "metadata": {},
   "source": [
    "<!-- dom:FIGURE: [figs/hypersphere.png, width=400 frac=0.7] Ratio of hypersphere volume to hypercube volume.  -->\n",
    "<!-- begin figure -->\n",
    "\n",
    "<p>Ratio of hypersphere volume to hypercube volume.</p>\n",
    "<img src=\"figs/hypersphere.png\" width=400>\n",
    "\n",
    "<!-- end figure -->"
   ]
  }
 ],
 "metadata": {},
 "nbformat": 4,
 "nbformat_minor": 2
}
