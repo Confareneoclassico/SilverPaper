{
 "cells": [
  {
   "cell_type": "markdown",
   "metadata": {},
   "source": [
    "# Silver as a techno/biophysical constraint for a large-scale development of Solar Photovoltaics? Current trends and data quality\n",
    "\n",
    "We present here the code underpinning the assessment of the silver constraint along with the rationale behind the steps undertaken\n"
   ]
  }
